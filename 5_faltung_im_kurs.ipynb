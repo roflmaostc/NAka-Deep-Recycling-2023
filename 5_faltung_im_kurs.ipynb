{
 "cells": [
  {
   "cell_type": "markdown",
   "id": "b9299e69",
   "metadata": {},
   "source": [
    "# Faltung - Convolutional Neural Networks"
   ]
  },
  {
   "cell_type": "markdown",
   "id": "775ea634",
   "metadata": {},
   "source": [
    "Faltungen (engl. convolutions) spielen bei der Bilderkennung mittels neuronalen Netzen eine bedeutende Rolle.\n",
    "\n",
    "Sie sollen bestimmte Muster (z.B. Ecken und Kanten) in einem bestimmten kleinen Bildausschnitt erkennen. Dazu gibt man einen sogenannten Filter/Kernel an und schiebt diesen über das Bild:\n",
    "\n",
    "![Convolution](data/convolution.gif)\n",
    "\n",
    "Dabei multipliziert man die Pixel elementweise mit dem Kernel (kleine rote Zahlen) und summiert die Ergebnisse auf.\n",
    "Das ergibt dann ein Pixel in der Ausgabe."
   ]
  },
  {
   "cell_type": "markdown",
   "id": "6c2e83ff",
   "metadata": {},
   "source": [
    "**Frage** Wie hängen die Dimensionen der Ausgabe mit den Dimensionen von Filter und Bild zusammen?"
   ]
  },
  {
   "cell_type": "markdown",
   "id": "fa60f8ac",
   "metadata": {},
   "source": [
    "Lösung: pic.shape[0] - kernel.shape[0] + 1 (je Dimension)"
   ]
  },
  {
   "cell_type": "markdown",
   "id": "fd6492cf",
   "metadata": {},
   "source": [
    "**Aufgabe** Berechne die Faltung aus dem Beispiel oben in Python\n",
    "\n",
    "*Tipp* `v[i:i+k, j:j+k]` gibt dir den quadratischen Ausschnitt der Größe `k`, wobei `(i,j)` die Koordinatennnnnnnnnnnnnnn links oben sind."
   ]
  },
  {
   "cell_type": "code",
   "execution_count": 3,
   "id": "07b76ca0",
   "metadata": {},
   "outputs": [],
   "source": [
    "import numpy as np"
   ]
  },
  {
   "cell_type": "code",
   "execution_count": 27,
   "id": "5347c964",
   "metadata": {},
   "outputs": [
    {
     "data": {
      "text/plain": [
       "torch.Size([3, 3])"
      ]
     },
     "execution_count": 27,
     "metadata": {},
     "output_type": "execute_result"
    }
   ],
   "source": [
    "k.shape"
   ]
  },
  {
   "cell_type": "code",
   "execution_count": 29,
   "id": "72bc86a4",
   "metadata": {},
   "outputs": [],
   "source": [
    "def myconv(image, kernel):\n",
    "    k = kernel.shape[0]\n",
    "    \n",
    "    output = torch.zeros((3,3))\n",
    "    \n",
    "    # von oben nach untne\n",
    "    for i in range(3):\n",
    "        # von links nach rechts\n",
    "        for j in range(3):\n",
    "            output[i, j] = torch.sum(image[i:i + k, j:j + k] * kernel)\n",
    "            \n",
    "            \n",
    "    return output"
   ]
  },
  {
   "cell_type": "code",
   "execution_count": 30,
   "id": "cd935cdc",
   "metadata": {},
   "outputs": [],
   "source": [
    "image = torch.tensor([[1,1,1,0,0],\n",
    "                  [0,1,1,1,0],\n",
    "                  [0,0,1,1,1],\n",
    "                  [0,0,1,1,0],\n",
    "                  [0,1,1,0,0]])\n"
   ]
  },
  {
   "cell_type": "code",
   "execution_count": 31,
   "id": "6d01d95d",
   "metadata": {},
   "outputs": [
    {
     "data": {
      "text/plain": [
       "tensor([[4., 3., 4.],\n",
       "        [2., 4., 3.],\n",
       "        [2., 3., 4.]])"
      ]
     },
     "execution_count": 31,
     "metadata": {},
     "output_type": "execute_result"
    }
   ],
   "source": [
    "myconv(image, torch.tensor([ [1,0,1],\n",
    "                         [0,1,0],\n",
    "                         [1,0,1]]))"
   ]
  },
  {
   "cell_type": "markdown",
   "id": "80ff743f",
   "metadata": {},
   "source": [
    "**Frage** Wie viele Operationen, also Additionen und Multiplikationen, werden dabei ausgeführt? "
   ]
  },
  {
   "cell_type": "code",
   "execution_count": 32,
   "id": "43ef8b8a",
   "metadata": {},
   "outputs": [
    {
     "data": {
      "text/plain": [
       "153"
      ]
     },
     "execution_count": 32,
     "metadata": {},
     "output_type": "execute_result"
    }
   ],
   "source": [
    "9 * (9 + 8)"
   ]
  },
  {
   "cell_type": "markdown",
   "id": "e7b7f4e7",
   "metadata": {},
   "source": [
    "**Aufgabe** Definiere eine Funktion, die für beliebige Bilder und Kernel die Faltung durchführt.\n",
    "\n",
    "**Bonus** (triple schwer) Erweitere die Funktion um Parameter für *Padding* und *Stride*."
   ]
  },
  {
   "cell_type": "code",
   "execution_count": null,
   "id": "ec391b2e",
   "metadata": {},
   "outputs": [],
   "source": []
  },
  {
   "cell_type": "markdown",
   "id": "0f47f615",
   "metadata": {},
   "source": [
    "**Frage** Wie viele Operationen werden hier ausgeführt, wenn `v` die Länge $n$ und `k` die Länge $k$ hat?"
   ]
  },
  {
   "cell_type": "markdown",
   "id": "f851c6c9",
   "metadata": {},
   "source": []
  },
  {
   "cell_type": "markdown",
   "id": "6009ca86",
   "metadata": {},
   "source": [
    "**Aufgabe** Finde eine allgemeine Formel, um die Länge des Outputs 𝑜 zu berechnen, wenn die Länge des Vektors 𝑛, die des Kernels 𝑘, das Padding 𝑝1 und 𝑝2 und das Stride 𝑠 ist."
   ]
  },
  {
   "cell_type": "markdown",
   "id": "ba6ccc53",
   "metadata": {},
   "source": []
  },
  {
   "cell_type": "markdown",
   "id": "4dbb5f4f",
   "metadata": {},
   "source": [
    "*pytorch* hat eine eingebaute Funktion um Faltungen durchzuführen:"
   ]
  },
  {
   "cell_type": "code",
   "execution_count": 17,
   "id": "fcaaa4ec",
   "metadata": {},
   "outputs": [],
   "source": [
    "import torch"
   ]
  },
  {
   "cell_type": "code",
   "execution_count": 34,
   "id": "95208f44",
   "metadata": {},
   "outputs": [],
   "source": [
    "v = image\n",
    "\n",
    "k = torch.tensor(np.array([[1,0,1],\n",
    "                           [0,1,0],\n",
    "                          [1,0,1]]))"
   ]
  },
  {
   "cell_type": "code",
   "execution_count": 43,
   "id": "c0c4f8b8",
   "metadata": {
    "scrolled": true
   },
   "outputs": [
    {
     "data": {
      "text/plain": [
       "tensor([[[[4, 3, 4],\n",
       "          [2, 4, 3],\n",
       "          [2, 3, 4]]]])"
      ]
     },
     "execution_count": 43,
     "metadata": {},
     "output_type": "execute_result"
    }
   ],
   "source": [
    "torch.conv2d(v[None, None, ...], k[None, None, ...])"
   ]
  },
  {
   "cell_type": "code",
   "execution_count": 41,
   "id": "03c61673",
   "metadata": {},
   "outputs": [
    {
     "data": {
      "text/plain": [
       "torch.Size([1, 1, 5, 5])"
      ]
     },
     "execution_count": 41,
     "metadata": {},
     "output_type": "execute_result"
    }
   ],
   "source": [
    "v.reshape(1,1,5,5).shape"
   ]
  },
  {
   "cell_type": "code",
   "execution_count": 42,
   "id": "d1c2479b",
   "metadata": {},
   "outputs": [
    {
     "data": {
      "text/plain": [
       "torch.Size([1, 1, 5, 5])"
      ]
     },
     "execution_count": 42,
     "metadata": {},
     "output_type": "execute_result"
    }
   ],
   "source": [
    "v[None, None, ...].shape"
   ]
  },
  {
   "cell_type": "code",
   "execution_count": 38,
   "id": "42e2198a",
   "metadata": {},
   "outputs": [
    {
     "data": {
      "text/plain": [
       "torch.Size([3, 3])"
      ]
     },
     "execution_count": 38,
     "metadata": {},
     "output_type": "execute_result"
    }
   ],
   "source": [
    "k.shape"
   ]
  },
  {
   "cell_type": "code",
   "execution_count": null,
   "id": "65d4116a",
   "metadata": {},
   "outputs": [],
   "source": []
  },
  {
   "cell_type": "code",
   "execution_count": null,
   "id": "0e3b93b6",
   "metadata": {},
   "outputs": [],
   "source": []
  },
  {
   "cell_type": "markdown",
   "id": "cfbffc11",
   "metadata": {},
   "source": [
    "## Kernel"
   ]
  },
  {
   "cell_type": "markdown",
   "id": "fe3cd19e",
   "metadata": {},
   "source": [
    "Wir wollen nun die Faltungen auf ein Bild anwenden. Dazu laden wir es zunächst und reduzieren es auf Graustufen."
   ]
  },
  {
   "cell_type": "code",
   "execution_count": 70,
   "id": "9b4d017f",
   "metadata": {
    "scrolled": false
   },
   "outputs": [
    {
     "data": {
      "image/png": "[encoded data removed]",
      "text/plain": [
       "<Figure size 640x480 with 1 Axes>"
      ]
     },
     "metadata": {},
     "output_type": "display_data"
    }
   ],
   "source": [
    "import torch\n",
    "from matplotlib import image as mpimg\n",
    "import matplotlib.pyplot as plt\n",
    "\n",
    "img_ = mpimg.imread('data/test_cnn.png') # Den Pfad musst du ggf. anpassen.\n",
    "\n",
    "img = img_ / 255\n",
    "img_bw = 1 - img[:, :, 0]\n",
    "\n",
    "plt.imshow(img_bw)\n",
    "plt.show()\n",
    "\n",
    "img_bw = torch.tensor(img_bw)"
   ]
  },
  {
   "cell_type": "markdown",
   "id": "04cc5cca",
   "metadata": {},
   "source": [
    "In `torch` können Faltungen in 2D mit der Funktion [`torch.conv2d`](https://pytorch.org/docs/stable/generated/torch.nn.functional.conv2d.html) durchgeführt werden. Dabei ist zu beachten, dass die Kernel, welche als `weight` bezeichnet werden, die Größe (Anzahl der Output Channel, Anzahl der Input Channel, Höhe, Breite) haben muss. Wenn wir nur jeweils einen Kanal haben, können wir einfach zusätzliche Dimensionen der Länge $1$ erzeugen, indem wir die Funktion [`torch.reshape`](https://pytorch.org/docs/stable/generated/torch.reshape.html?highlight=reshape#torch.reshape) verwenden."
   ]
  },
  {
   "cell_type": "code",
   "execution_count": 64,
   "id": "46df99db",
   "metadata": {},
   "outputs": [
    {
     "data": {
      "image/png": "[encoded data removed]",
      "text/plain": [
       "<Figure size 640x480 with 1 Axes>"
      ]
     },
     "metadata": {},
     "output_type": "display_data"
    }
   ],
   "source": [
    "k = torch.tensor([[1., 2., 1.], \n",
    "                  [1., 2., 1.], \n",
    "                  [1., 2., 1.]])\n",
    "\n",
    "h, w = img_bw.shape\n",
    "k_h, k_w = k.shape\n",
    "\n",
    "img_bw = img_bw.float()\n",
    "conv = torch.conv2d(img_bw.reshape(1, 1,h, w), k.reshape(1, 1, k_h, k_w))\n",
    "plt.imshow(conv.reshape(h - k_h + 1, w - k_w + 1))\n",
    "plt.show()"
   ]
  },
  {
   "cell_type": "markdown",
   "id": "50c229ee",
   "metadata": {},
   "source": [
    "**Frage** Was erkennt dieser Filter?"
   ]
  },
  {
   "cell_type": "code",
   "execution_count": null,
   "id": "340767fe",
   "metadata": {},
   "outputs": [],
   "source": []
  },
  {
   "cell_type": "markdown",
   "id": "60cc0a49",
   "metadata": {},
   "source": [
    "**Aufgabe** Finde Filter, die horizontale Linien, Ecken (in $x$-, in $y$-Richtung, sowie richtungsunabhängig), Kanten (aber keine Linien), ... erkennen."
   ]
  },
  {
   "cell_type": "code",
   "execution_count": null,
   "id": "8a898677",
   "metadata": {},
   "outputs": [],
   "source": []
  },
  {
   "cell_type": "markdown",
   "id": "df01fcb4",
   "metadata": {},
   "source": [
    "**Aufgabe** Finde einen Kernel, mit dem du das Bild glätten kannst."
   ]
  },
  {
   "cell_type": "code",
   "execution_count": null,
   "id": "3f98413d",
   "metadata": {},
   "outputs": [],
   "source": []
  },
  {
   "cell_type": "markdown",
   "id": "ed190d19",
   "metadata": {},
   "source": [
    "**Aufgabe** Ändere die Größe des Kernels und beobachte die Effekte."
   ]
  },
  {
   "cell_type": "code",
   "execution_count": null,
   "id": "76064567",
   "metadata": {},
   "outputs": [],
   "source": []
  },
  {
   "cell_type": "markdown",
   "id": "daabd241",
   "metadata": {},
   "source": [
    "**Aufgabe** Lade das Bild `'data/katze.jpg'` und wende die Filter darauf an, visualisiere die Ergebnisse."
   ]
  },
  {
   "cell_type": "code",
   "execution_count": null,
   "id": "c600f2db",
   "metadata": {},
   "outputs": [],
   "source": []
  },
  {
   "cell_type": "markdown",
   "id": "b674e8cd",
   "metadata": {},
   "source": [
    "## Pooling"
   ]
  },
  {
   "cell_type": "markdown",
   "id": "0d31e94f",
   "metadata": {},
   "source": [
    "In CNN's wechseln sich Convolutional Layer mit Pooling/Subsampling Layern ab. Ein Pooling Layer fasst mehrere Pixel zusammen, und komprimiert daher das Bild.\n",
    "\n",
    "Er hat mehrere Funktionen:\n",
    "- Overfitting vermeiden\n",
    "- Rechenzeit sparen\n",
    "- Robuster gegenüber Transformationen\n",
    "\n",
    "![CNN](data/cnn.png)\n",
    "https://commons.wikimedia.org/wiki/File:Typical_cnn.png by Aphex34"
   ]
  },
  {
   "cell_type": "markdown",
   "id": "06db048f",
   "metadata": {},
   "source": [
    "Das Zusammenfassen von Pixeln kann grundsätzlich auf zwei verschiedene Arten erfolgen:\n",
    "- wir berechnen den Durschnittswert aller Pixel einer Region\n",
    "- wir übernehmen die größte Aktivierung aller Pixel einer Region"
   ]
  },
  {
   "cell_type": "markdown",
   "id": "d5c52d9b",
   "metadata": {},
   "source": [
    "In `pytorch` heißen diese Funktionen `MaxPool2d` bzw. `AvgPool2d`. Wir geben als Argument die Kernel-Größe an, d.h. die Seitenlänge der Region, die zusammengefasst werden soll."
   ]
  },
  {
   "cell_type": "code",
   "execution_count": null,
   "id": "b57d2727",
   "metadata": {
    "scrolled": true
   },
   "outputs": [],
   "source": [
    "max_layer = torch.nn.MaxPool2d(3)\n",
    "avg_layer = torch.nn.AvgPool2d(3)\n",
    "\n",
    "max_pooled = max_layer(conv)\n",
    "avg_pooled = avg_layer(conv)\n",
    "plt.imshow(max_pooled[0,0])\n",
    "plt.title('Max');\n",
    "plt.show()\n",
    "plt.title('Average');\n",
    "plt.imshow(avg_pooled[0,0])\n",
    "plt.show()"
   ]
  },
  {
   "cell_type": "markdown",
   "id": "119f3d83",
   "metadata": {},
   "source": [
    "**Frage** Wie groß ist das Ergebnis des Pooling-Layers bei Kernelgröße $k$, Bildgröße $h \\cdot w$?"
   ]
  },
  {
   "cell_type": "markdown",
   "id": "beb5ce97",
   "metadata": {},
   "source": []
  },
  {
   "cell_type": "markdown",
   "id": "d221fa01",
   "metadata": {},
   "source": [
    "**Aufgabe** Variiere die Kernelgröße und das Bild (z.B. Katze) und beobachte die Änderungen."
   ]
  },
  {
   "cell_type": "markdown",
   "id": "105ed43d",
   "metadata": {},
   "source": []
  },
  {
   "cell_type": "markdown",
   "id": "233f1e7f",
   "metadata": {},
   "source": [
    "## CNNs"
   ]
  },
  {
   "cell_type": "markdown",
   "id": "dd524d91",
   "metadata": {},
   "source": [
    "Ein typisches CNN ist aufgebaut aus alternierendend Schichten von Convolutions und Pooling (mit Aktivierungsfunktion dazwischen). Am Ende haben wir dann einen oder mehrere Fully Connected Layer."
   ]
  },
  {
   "cell_type": "code",
   "execution_count": null,
   "id": "009d49a9",
   "metadata": {},
   "outputs": [],
   "source": [
    "net = torch.nn.Sequential(torch.nn.Conv2d(1, 8, 3, padding=1), \n",
    "                          torch.nn.ReLU(), \n",
    "                          torch.nn.Conv2d(8, 8, 3, padding=1),\n",
    "                          torch.nn.ReLU(), \n",
    "                          torch.nn.AvgPool2d(2, 2), \n",
    "                          torch.nn.Conv2d(8, 16, 3, padding=1),\n",
    "                          torch.nn.ReLU(),\n",
    "                          torch.nn.Conv2d(16, 16, 3, padding=1),\n",
    "                          torch.nn.ReLU(), \n",
    "                          torch.nn.AvgPool2d(2, 2),\n",
    "                          torch.nn.Conv2d(16, 32, 3, padding=1),\n",
    "                          torch.nn.ReLU(),\n",
    "                          torch.nn.Conv2d(32, 32, 3, padding=1),\n",
    "                          torch.nn.ReLU(),\n",
    "                          torch.nn.Flatten(), \n",
    "                          torch.nn.Linear(7 * 7 * 32, 10))"
   ]
  },
  {
   "cell_type": "markdown",
   "id": "cf98d044",
   "metadata": {},
   "source": [
    "Wie du siehst übergeben wir hier mehr Argumente an die Funktion `torch.nn.Conv2d`:\n",
    "```\n",
    "    torch.nn.Conv2d(\n",
    "    in_channels,\n",
    "    out_channels,\n",
    "    kernel_size)\n",
    "```\n",
    "\n",
    "`out_channels` bezeichnet die Anzahl der Features bzw. Kernel, die wir in diesem Layer parallel lernen.\n",
    "Wir können also in einem Layer nicht nur z.B. horizontale Linien, sondern viele Features auf einmal erkennen.\n",
    "`in_channels` ist das gleiche auf der Eingabeseite: bei Farbbildern haben wir separate Kanäle für rot, grün und blau."
   ]
  },
  {
   "cell_type": "markdown",
   "id": "412d6503",
   "metadata": {},
   "source": [
    "**Frage** Was macht der Layer `torch.nn.Flatten()`?"
   ]
  },
  {
   "cell_type": "markdown",
   "id": "42d494ec",
   "metadata": {},
   "source": []
  },
  {
   "cell_type": "markdown",
   "id": "c912889d",
   "metadata": {},
   "source": [
    "Wir können ganz einfach einen forward pass durch das Netzwerk berechnen: "
   ]
  },
  {
   "cell_type": "code",
   "execution_count": null,
   "id": "ceb2c6af",
   "metadata": {},
   "outputs": [],
   "source": [
    "net(img_bw[None, None, ...])"
   ]
  },
  {
   "cell_type": "markdown",
   "id": "ca051567",
   "metadata": {},
   "source": [
    "## Bonus: Faltung von Vektoren"
   ]
  },
  {
   "cell_type": "markdown",
   "id": "1348151c",
   "metadata": {},
   "source": [
    "### Aufgabe 1"
   ]
  },
  {
   "cell_type": "markdown",
   "id": "97b733e2",
   "metadata": {},
   "source": [
    "Nehmen wir an, dass wir einen Vektor der Länge $8$ und einen zweiten der Länge $3$ haben. Wie groß ist die Faltung der beiden Vektoren?"
   ]
  },
  {
   "cell_type": "markdown",
   "id": "90051e40",
   "metadata": {},
   "source": [
    "_Hier kannst du deine Lösung hinschreiben._"
   ]
  },
  {
   "cell_type": "markdown",
   "id": "91c456bd",
   "metadata": {},
   "source": [
    "### Aufgabe 2"
   ]
  },
  {
   "cell_type": "markdown",
   "id": "021d1559",
   "metadata": {},
   "source": [
    "Wie sieht es aus, wenn ein Vektor die Länge $12$ und der andere die Länge $6$ hat?"
   ]
  },
  {
   "cell_type": "markdown",
   "id": "0c12160a",
   "metadata": {},
   "source": []
  },
  {
   "cell_type": "markdown",
   "id": "d6ffd231",
   "metadata": {},
   "source": [
    "### Aufgabe 3"
   ]
  },
  {
   "cell_type": "markdown",
   "id": "5b31961c",
   "metadata": {},
   "source": [
    "Gegeben seien zwei Vektoren der Länge $20$ und $3$, wobei wir den ersten Vektor um $2$ in jede Richtung padden. Wir groß ist der Output?"
   ]
  },
  {
   "cell_type": "markdown",
   "id": "d6ed369f",
   "metadata": {},
   "source": []
  },
  {
   "cell_type": "markdown",
   "id": "067ee8a8",
   "metadata": {},
   "source": [
    "### Aufgabe 4"
   ]
  },
  {
   "cell_type": "markdown",
   "id": "13faa697",
   "metadata": {},
   "source": [
    "Wie muss man einen Vektor der Länge $15$ padden, dass der Output der Faltung mit einem Kernel der Länge $4$ wieder die Länge des ursprünglichen Vektors haben soll?"
   ]
  },
  {
   "cell_type": "markdown",
   "id": "cc907d64",
   "metadata": {},
   "source": []
  },
  {
   "cell_type": "markdown",
   "id": "a2213f3e",
   "metadata": {},
   "source": [
    "### Aufgabe 5"
   ]
  },
  {
   "cell_type": "markdown",
   "id": "cef83e0a",
   "metadata": {},
   "source": [
    "Der Vektor habe die Länge $10$ und der Kernel ist $2$ lang. Wir verwenden ein Stride von $2$. Wie groß ist der Output?"
   ]
  },
  {
   "cell_type": "markdown",
   "id": "76401ac9",
   "metadata": {},
   "source": []
  },
  {
   "cell_type": "markdown",
   "id": "f64c0d20",
   "metadata": {},
   "source": [
    "### Aufgabe 6"
   ]
  },
  {
   "cell_type": "markdown",
   "id": "d6de1459",
   "metadata": {},
   "source": [
    "Nun habe der Vektor die Länge $14$, der Kernel die Länge $5$, wir padden auf jeder Seite um $3$ und verwenden ein Stride von $4$. Wie groß ist der Output?"
   ]
  },
  {
   "cell_type": "markdown",
   "id": "bd9499a2",
   "metadata": {},
   "source": []
  },
  {
   "cell_type": "markdown",
   "id": "55a08821",
   "metadata": {},
   "source": [
    "### Aufgabe 7"
   ]
  },
  {
   "cell_type": "markdown",
   "id": "603df785",
   "metadata": {},
   "source": [
    "Finde eine allgemeine Formel, um die Länge des Outputs $o$ zu berechnen, wenn die Länge des Vektors $n$, die des Kernels $k$, das Padding $p_1$ und $p_2$ und das Stride $s$ ist."
   ]
  },
  {
   "cell_type": "markdown",
   "id": "c49e6750",
   "metadata": {},
   "source": []
  },
  {
   "cell_type": "markdown",
   "id": "bbe86ac5",
   "metadata": {},
   "source": [
    "### Aufgabe 8"
   ]
  },
  {
   "cell_type": "markdown",
   "id": "fe925652",
   "metadata": {},
   "source": [
    "Von nun an werden wir die Funktion [`np.convolve`](https://numpy.org/doc/stable/reference/generated/numpy.convolve.html) verwenden. Falte den Vektor mit den angegebenen Kerneln und visualisiere die Resultate, um deren Effekt zu verstehen. Kannst du die Kernel kombinieren, um den Punkt mit dem größten Anstieg zu finden?"
   ]
  },
  {
   "cell_type": "code",
   "execution_count": 3,
   "id": "cd341c7d",
   "metadata": {},
   "outputs": [],
   "source": [
    "from matplotlib import pyplot as plt\n",
    "import numpy as np\n",
    "\n",
    "v = np.tanh(np.linspace(-5, 5)) + 0.05 * np.sin(np.linspace(-40, 40))\n",
    "\n",
    "k1 = np.array([0.2, 0.2, 0.2, 0.2, 0.2])\n",
    "k2 = np.array([1, 0, -1])\n",
    "k3 = np.array([-1, 2, -1])\n",
    "k4 = np.array([0.2, 0.6, 1, 0.6, 0.2])\n",
    "k4 = k4 / np.sum(k4)\n",
    "\n",
    "out = np.convolve(v, k1)\n"
   ]
  },
  {
   "cell_type": "code",
   "execution_count": null,
   "id": "ff7fe7f1",
   "metadata": {},
   "outputs": [],
   "source": []
  }
 ],
 "metadata": {
  "kernelspec": {
   "display_name": "Python 3 (ipykernel)",
   "language": "python",
   "name": "python3"
  },
  "language_info": {
   "codemirror_mode": {
    "name": "ipython",
    "version": 3
   },
   "file_extension": ".py",
   "mimetype": "text/x-python",
   "name": "python",
   "nbconvert_exporter": "python",
   "pygments_lexer": "ipython3",
   "version": "3.8.17"
  }
 },
 "nbformat": 4,
 "nbformat_minor": 5
}
