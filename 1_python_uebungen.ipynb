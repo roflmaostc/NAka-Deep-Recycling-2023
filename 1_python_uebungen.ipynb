{
 "cells": [
  {
   "cell_type": "markdown",
   "id": "b25a0efb",
   "metadata": {},
   "source": [
    "# 1. Generelle Python Übungen\n",
    "\n",
    "In diesem Notebook könnt ihr erneut eure generellen Python Kenntnisse auffrischen und üben."
   ]
  },
  {
   "cell_type": "code",
   "execution_count": 1,
   "id": "621f22f1",
   "metadata": {},
   "outputs": [],
   "source": [
    "# import der NumPy Library\n",
    "import numpy as np\n",
    "\n",
    "# import der plot library\n",
    "import matplotlib.pyplot as plt"
   ]
  },
  {
   "cell_type": "code",
   "execution_count": 2,
   "id": "4ed45ccc",
   "metadata": {},
   "outputs": [],
   "source": [
    "x = 1\n",
    "y = 2"
   ]
  },
  {
   "cell_type": "code",
   "execution_count": 3,
   "id": "30b73fd2",
   "metadata": {},
   "outputs": [],
   "source": [
    "# Addiere hier x und y\n"
   ]
  },
  {
   "cell_type": "code",
   "execution_count": 4,
   "id": "59cf06c9",
   "metadata": {},
   "outputs": [],
   "source": [
    "a = \"Nachhaltig\"\n",
    "b = \"keit\""
   ]
  },
  {
   "cell_type": "code",
   "execution_count": 7,
   "id": "0a859931",
   "metadata": {},
   "outputs": [],
   "source": [
    "# Addiere hier a und b, was erwartest du?"
   ]
  },
  {
   "cell_type": "code",
   "execution_count": 8,
   "id": "be094d86",
   "metadata": {},
   "outputs": [],
   "source": [
    "def f(a,b):\n",
    "    return a + b"
   ]
  },
  {
   "cell_type": "code",
   "execution_count": 9,
   "id": "f4b90f06",
   "metadata": {},
   "outputs": [],
   "source": [
    "# Rufe nun die Funktion f mit x und y auf\n"
   ]
  },
  {
   "cell_type": "code",
   "execution_count": 10,
   "id": "6cda8e06",
   "metadata": {},
   "outputs": [],
   "source": [
    "# Rufe nun die Funktion f mit a und b auf\n"
   ]
  },
  {
   "cell_type": "markdown",
   "id": "dd14a3d7",
   "metadata": {},
   "source": [
    "# 2. Listen und Arrays"
   ]
  },
  {
   "cell_type": "code",
   "execution_count": 11,
   "id": "f3a62172",
   "metadata": {},
   "outputs": [
    {
     "data": {
      "text/plain": [
       "[1, 2]"
      ]
     },
     "execution_count": 11,
     "metadata": {},
     "output_type": "execute_result"
    }
   ],
   "source": [
    "l = []\n",
    "l.append(1)\n",
    "l.append(2)\n",
    "\n",
    "l"
   ]
  },
  {
   "cell_type": "code",
   "execution_count": 12,
   "id": "0da243df",
   "metadata": {},
   "outputs": [],
   "source": [
    "# Die ist eine Liste von Zahlen\n",
    "l = [1,2,3,4,5,6]"
   ]
  },
  {
   "cell_type": "code",
   "execution_count": 13,
   "id": "bcf22bbd",
   "metadata": {},
   "outputs": [
    {
     "data": {
      "text/plain": [
       "array([1, 2, 3, 4, 5, 6])"
      ]
     },
     "execution_count": 13,
     "metadata": {},
     "output_type": "execute_result"
    }
   ],
   "source": [
    "# ein NumPy array\n",
    "array = np.array(l)\n",
    "array"
   ]
  },
  {
   "cell_type": "code",
   "execution_count": 14,
   "id": "8c512b77",
   "metadata": {},
   "outputs": [
    {
     "data": {
      "text/plain": [
       "array([0, 1, 2, 3, 4, 5, 6, 7, 8, 9])"
      ]
     },
     "execution_count": 14,
     "metadata": {},
     "output_type": "execute_result"
    }
   ],
   "source": [
    "a = np.array(range(10))\n",
    "a"
   ]
  },
  {
   "cell_type": "code",
   "execution_count": 15,
   "id": "e0944bf3",
   "metadata": {},
   "outputs": [],
   "source": [
    "# Erstelle ein Array das die Elemente [2, 4, ..., 20] enthält\n"
   ]
  },
  {
   "cell_type": "code",
   "execution_count": 16,
   "id": "155f6fa4",
   "metadata": {},
   "outputs": [],
   "source": [
    "# Nur mit * und + operationen\n"
   ]
  },
  {
   "cell_type": "code",
   "execution_count": 17,
   "id": "6f261add",
   "metadata": {},
   "outputs": [],
   "source": [
    "# Mit range\n"
   ]
  },
  {
   "cell_type": "code",
   "execution_count": 18,
   "id": "8d3ffdac",
   "metadata": {},
   "outputs": [],
   "source": [
    "# Mit np.linspace\n",
    "# Tippe ?np.linspace für Hilfe"
   ]
  },
  {
   "cell_type": "markdown",
   "id": "3053f3f1",
   "metadata": {},
   "source": [
    "## 2.1 List Comprehension\n",
    "\n"
   ]
  },
  {
   "cell_type": "code",
   "execution_count": 19,
   "id": "fc00902c",
   "metadata": {},
   "outputs": [
    {
     "data": {
      "text/plain": [
       "[0, 1, 2, 3, 4, 5, 6, 7, 8, 9]"
      ]
     },
     "execution_count": 19,
     "metadata": {},
     "output_type": "execute_result"
    }
   ],
   "source": [
    "# Was macht dieser Ausdruck?\n",
    "[i for i in range(10)]"
   ]
  },
  {
   "cell_type": "code",
   "execution_count": 20,
   "id": "5e5133d6",
   "metadata": {},
   "outputs": [
    {
     "data": {
      "text/plain": [
       "array([0, 1, 2, 3, 4, 5, 6, 7, 8, 9])"
      ]
     },
     "execution_count": 20,
     "metadata": {},
     "output_type": "execute_result"
    }
   ],
   "source": [
    "np.array([i for i in range(10)])"
   ]
  },
  {
   "cell_type": "code",
   "execution_count": 21,
   "id": "3de0304c",
   "metadata": {},
   "outputs": [
    {
     "data": {
      "text/plain": [
       "[3, 4, 5, 6, 7, 8, 9]"
      ]
     },
     "execution_count": 21,
     "metadata": {},
     "output_type": "execute_result"
    }
   ],
   "source": [
    "[i for i in range(10) if i > 2]"
   ]
  },
  {
   "cell_type": "code",
   "execution_count": 22,
   "id": "1ab7f49c",
   "metadata": {},
   "outputs": [
    {
     "data": {
      "text/plain": [
       "[4, 6, 8]"
      ]
     },
     "execution_count": 22,
     "metadata": {},
     "output_type": "execute_result"
    }
   ],
   "source": [
    "[i for i in range(10) if i > 2 and i % 2 == 0]"
   ]
  },
  {
   "cell_type": "code",
   "execution_count": 23,
   "id": "392a9825",
   "metadata": {},
   "outputs": [],
   "source": [
    "# Versuche nun mit den Hinweisen eine Liste zurückzugeben, die die ersten 50 ungeraden Zahlen enthält\n"
   ]
  },
  {
   "cell_type": "code",
   "execution_count": 24,
   "id": "fe6de08f",
   "metadata": {},
   "outputs": [
    {
     "data": {
      "text/plain": [
       "array([[0, 1, 2],\n",
       "       [1, 2, 3],\n",
       "       [2, 3, 4]])"
      ]
     },
     "execution_count": 24,
     "metadata": {},
     "output_type": "execute_result"
    }
   ],
   "source": [
    "# Hilfe\n",
    "np.array([[i + j for i in range(3)] for j in range(3)])"
   ]
  },
  {
   "cell_type": "code",
   "execution_count": 25,
   "id": "91ea17ed",
   "metadata": {},
   "outputs": [],
   "source": [
    "# Versuche eine Matrix mit for Schleifen zu bauen, die so aussieht: [[0,1,2],[3,4,5],[6,7,8]]\n"
   ]
  },
  {
   "cell_type": "code",
   "execution_count": null,
   "id": "3e332b83",
   "metadata": {},
   "outputs": [],
   "source": []
  },
  {
   "cell_type": "code",
   "execution_count": 26,
   "id": "266c5e00",
   "metadata": {},
   "outputs": [],
   "source": [
    "# Versuche eine Matrix mit for Schleifen zu bauen, die so aussieht: [[1,4,7],[2,5,8],[3,6,9]]\n"
   ]
  },
  {
   "cell_type": "code",
   "execution_count": null,
   "id": "58bc3d08",
   "metadata": {},
   "outputs": [],
   "source": []
  },
  {
   "cell_type": "markdown",
   "id": "f06903e4",
   "metadata": {},
   "source": [
    "# 3. Zufallszahlen"
   ]
  },
  {
   "cell_type": "code",
   "execution_count": 27,
   "id": "a6890060",
   "metadata": {},
   "outputs": [
    {
     "data": {
      "text/plain": [
       "array([-0.24922254, -0.34512724])"
      ]
     },
     "execution_count": 27,
     "metadata": {},
     "output_type": "execute_result"
    }
   ],
   "source": [
    "# Was macht diese Funktion?\n",
    "np.random.randn(2)"
   ]
  },
  {
   "cell_type": "code",
   "execution_count": null,
   "id": "a4787067",
   "metadata": {},
   "outputs": [],
   "source": []
  },
  {
   "cell_type": "code",
   "execution_count": 28,
   "id": "54194275",
   "metadata": {},
   "outputs": [],
   "source": [
    "# Erstelle eine Funktion, die ein (3,3) Array zufälligen Zahlen zurückgibt.\n",
    "\n"
   ]
  },
  {
   "cell_type": "code",
   "execution_count": null,
   "id": "5ee189b3",
   "metadata": {},
   "outputs": [],
   "source": []
  },
  {
   "cell_type": "code",
   "execution_count": 29,
   "id": "f624ce6b",
   "metadata": {},
   "outputs": [],
   "source": [
    "# Erstellle eine Funktion, die Array mit zufälligen, gleichverteilten Zahlen aus dem Interval [0,1] zurückgibt\n"
   ]
  },
  {
   "cell_type": "code",
   "execution_count": null,
   "id": "98390b57",
   "metadata": {},
   "outputs": [],
   "source": []
  },
  {
   "cell_type": "code",
   "execution_count": 30,
   "id": "88a6739c",
   "metadata": {},
   "outputs": [],
   "source": [
    "# Erstelle eine Funktion, die zufällig die Buchstaben \"a\" und \"b\" zurückgibt.\n",
    "# kleiner Tipp mit: [\"a\", \"b\"][1] oder [\"a\", \"b\"][0] greift man auf ein Listen Element zu\n"
   ]
  },
  {
   "cell_type": "code",
   "execution_count": null,
   "id": "f7c60f3e",
   "metadata": {},
   "outputs": [],
   "source": []
  },
  {
   "cell_type": "code",
   "execution_count": 31,
   "id": "29632bbc",
   "metadata": {},
   "outputs": [],
   "source": [
    "# Erstelle eine Funktion, die zufällig ein Listenelement aus einer beliebigen Liste zurückgibt\n",
    "def random_pick(names):\n",
    "    return \"blub\"\n"
   ]
  },
  {
   "cell_type": "code",
   "execution_count": 32,
   "id": "3c77d3cb",
   "metadata": {},
   "outputs": [],
   "source": [
    "# Schreibe eine Funktion, die eine Liste zufällig durchmischt\n",
    "\n"
   ]
  },
  {
   "cell_type": "code",
   "execution_count": 33,
   "id": "5e2e8d04",
   "metadata": {},
   "outputs": [],
   "source": [
    "# Schreibe eine Funktion, die aus einer Liste mit Namen folgenden zufälligen Output erzeugt:\n",
    "# Input: [\"Paul\", \"Pia\", \"Vincent\"]\n",
    "# Output: [(1, \"Paul\"), (0, \"Pia\"), (2, \"Vincent\")]\n",
    "# oder: [(2, \"Paul\"), (0, \"Pia\"), (1, \"Vincent\")]\n",
    "\n",
    "\n",
    "# Benutze dafür z.B. l.append wobei l eine Liste ist. \n",
    "\n",
    "\n"
   ]
  },
  {
   "cell_type": "markdown",
   "id": "078e0ca3",
   "metadata": {},
   "source": [
    "# 4. Funktionen"
   ]
  },
  {
   "cell_type": "code",
   "execution_count": 34,
   "id": "c07c60f6",
   "metadata": {},
   "outputs": [],
   "source": [
    "def f():\n",
    "    if 5 > 3:\n",
    "        return \"hallo\"\n",
    "    else:\n",
    "        \"blub\""
   ]
  },
  {
   "cell_type": "code",
   "execution_count": 35,
   "id": "e9a51cb3",
   "metadata": {},
   "outputs": [
    {
     "data": {
      "text/plain": [
       "'hallo'"
      ]
     },
     "execution_count": 35,
     "metadata": {},
     "output_type": "execute_result"
    }
   ],
   "source": [
    "f()"
   ]
  },
  {
   "cell_type": "code",
   "execution_count": 36,
   "id": "a935689f",
   "metadata": {},
   "outputs": [],
   "source": [
    "# Schreibe eine Funktion mit folgendem Output:\n",
    "# fizzbuzz(1) == \"1\"\n",
    "# fizzbuzz(2) == \"2\"\n",
    "# fizzbuzz(3) == \"Fizz\"\n",
    "# fizzbuzz(5) == \"Buzz\"\n",
    "# fizzbuzz(15) == \"Fizz Buzz\"\n",
    "\n",
    "def singl_fizzbuzz(n):\n",
    "    return \"todo\"\n"
   ]
  },
  {
   "cell_type": "code",
   "execution_count": 37,
   "id": "5aee0fa9",
   "metadata": {},
   "outputs": [],
   "source": [
    "# Schreibe eine Funktion mit folgendem Output:\n",
    "# fizzbuzz(16) == \"1, 2, Fizz, 4, Buzz, Fizz, 7, 8, Fizz, Buzz, 11, Fizz, 13, 14, Fizz Buzz\"\n",
    "# Das heißt die Länge des Outputs hängt von der Zahl ab. Der Output soll entweder ein langer String oder \n",
    "# eine lange Liste sein\n",
    "def fizzbuzz(n):\n",
    "    return \"fizzbuzz\"\n"
   ]
  },
  {
   "cell_type": "code",
   "execution_count": null,
   "id": "97dcf5a0",
   "metadata": {},
   "outputs": [],
   "source": []
  },
  {
   "cell_type": "code",
   "execution_count": 38,
   "id": "c8264268",
   "metadata": {},
   "outputs": [],
   "source": [
    "# Schreibe eine Funktion sum, die alle Listen Elemente addiert\n",
    "# verwende dafür das Konstrukt: for element in liste\n",
    "\n",
    "def sum(x):\n",
    "    return \"todo\"\n"
   ]
  },
  {
   "cell_type": "code",
   "execution_count": null,
   "id": "105eba2d",
   "metadata": {},
   "outputs": [],
   "source": []
  },
  {
   "cell_type": "code",
   "execution_count": 39,
   "id": "21e94733",
   "metadata": {},
   "outputs": [],
   "source": [
    "# Schreibe eine Funktion sum, die alle positiven Listen Elemente addiert\n",
    "# verwende dafür das Konstrukt: for element in liste\n",
    "\n",
    "def positive(x):\n",
    "    return \"todo\""
   ]
  },
  {
   "cell_type": "code",
   "execution_count": null,
   "id": "3ca070cb",
   "metadata": {},
   "outputs": [],
   "source": []
  },
  {
   "cell_type": "code",
   "execution_count": 40,
   "id": "ea165bf3",
   "metadata": {},
   "outputs": [],
   "source": [
    "# Schreibe eine Funktion sum, die alle Listen Elemente, die eine bestimmte Boolschen Bedingung erfüllen, addiert\n",
    "# verwende dafür das Konstrukt: for element in liste\n",
    "\n",
    "def sum_condition(x, bool_function):\n",
    "    return \"todo\""
   ]
  },
  {
   "cell_type": "code",
   "execution_count": 41,
   "id": "d44602bd",
   "metadata": {
    "scrolled": true
   },
   "outputs": [
    {
     "data": {
      "text/plain": [
       "'todo'"
      ]
     },
     "execution_count": 41,
     "metadata": {},
     "output_type": "execute_result"
    }
   ],
   "source": [
    "sum_condition([1,2,3,4,5,100, 1000], lambda x: x > 99) # der output soll 1100 sein"
   ]
  },
  {
   "cell_type": "code",
   "execution_count": null,
   "id": "746d61f1",
   "metadata": {},
   "outputs": [],
   "source": []
  },
  {
   "cell_type": "code",
   "execution_count": 42,
   "id": "49cfe66e",
   "metadata": {},
   "outputs": [],
   "source": [
    "# Schreibe eine Funktion, welche die ersten n Quadratzahlen ausgibt\n",
    "# quadrat(5) = [1, 2, 4, 9, 16]\n",
    "\n",
    "\n",
    "def quadrat(n):\n",
    "    return \"todo\""
   ]
  },
  {
   "cell_type": "code",
   "execution_count": null,
   "id": "3c1abffc",
   "metadata": {},
   "outputs": [],
   "source": []
  },
  {
   "cell_type": "code",
   "execution_count": 43,
   "id": "74fd54d2",
   "metadata": {},
   "outputs": [],
   "source": [
    "# Schreibe eine Funktion, welche die ersten n Fibonacci Zahlen ausgibt\n",
    "# fibonacci(7) = [1,1,2,3,5,8,13]\n",
    "\n",
    "\n",
    "def fibonacci(n):\n",
    "    return \"todo\""
   ]
  },
  {
   "cell_type": "code",
   "execution_count": null,
   "id": "555afcce",
   "metadata": {},
   "outputs": [],
   "source": []
  },
  {
   "cell_type": "code",
   "execution_count": 44,
   "id": "e68ecbf9",
   "metadata": {},
   "outputs": [],
   "source": [
    "# Schreibe eine Funktion, welche die ersten n Primzahlen Zahlen ausgibt (schwieriger)\n",
    "# primzahlen(7) = [2,3,5,7,11]\n",
    "\n",
    "\n",
    "def primzahlen(n):\n",
    "    return \"todo\""
   ]
  },
  {
   "cell_type": "code",
   "execution_count": null,
   "id": "bc679d78",
   "metadata": {},
   "outputs": [],
   "source": []
  },
  {
   "cell_type": "code",
   "execution_count": null,
   "id": "bb7db72b",
   "metadata": {},
   "outputs": [],
   "source": []
  },
  {
   "cell_type": "markdown",
   "id": "3f9b9a46",
   "metadata": {},
   "source": [
    "# 5. Numpy"
   ]
  },
  {
   "cell_type": "code",
   "execution_count": 45,
   "id": "414b9ea3",
   "metadata": {},
   "outputs": [],
   "source": [
    "# Schreibe eine Funktion, die jedes n-te Element zurückt\n",
    "\n",
    "def nth(l, n):\n",
    "    return \"todo\""
   ]
  },
  {
   "cell_type": "code",
   "execution_count": 46,
   "id": "276623e7",
   "metadata": {
    "scrolled": true
   },
   "outputs": [
    {
     "data": {
      "text/plain": [
       "False"
      ]
     },
     "execution_count": 46,
     "metadata": {},
     "output_type": "execute_result"
    }
   ],
   "source": [
    "nth([1,2,3,4,5,6], 3) == [1,4]"
   ]
  },
  {
   "cell_type": "code",
   "execution_count": null,
   "id": "a14e17e8",
   "metadata": {},
   "outputs": [],
   "source": []
  },
  {
   "cell_type": "code",
   "execution_count": 47,
   "id": "26522279",
   "metadata": {},
   "outputs": [],
   "source": [
    "# Schreibe eine Funktion, die jedes n-te Element zurückt, aber in umgekehrter Reihenfolge\n",
    "\n",
    "def nth_reverse(l, n):\n",
    "    return \"todo\""
   ]
  },
  {
   "cell_type": "code",
   "execution_count": 48,
   "id": "93a123f0",
   "metadata": {},
   "outputs": [
    {
     "data": {
      "text/plain": [
       "False"
      ]
     },
     "execution_count": 48,
     "metadata": {},
     "output_type": "execute_result"
    }
   ],
   "source": [
    "nth_reverse([1,2,3,4,5,6], 3) == [4,1]"
   ]
  },
  {
   "cell_type": "code",
   "execution_count": null,
   "id": "de5c11f7",
   "metadata": {},
   "outputs": [],
   "source": []
  },
  {
   "cell_type": "code",
   "execution_count": 49,
   "id": "f85be4c3",
   "metadata": {},
   "outputs": [],
   "source": [
    "# Schreibe eine Funktion die folgendes macht:\n",
    "# union(np.array([1,2,3]), np.array([4,5,6])) == np.array([1,2,3,4,5,6])\n",
    "\n",
    "def union(a, b):\n",
    "    return \"todo\""
   ]
  },
  {
   "cell_type": "code",
   "execution_count": null,
   "id": "3c98367b",
   "metadata": {},
   "outputs": [],
   "source": []
  },
  {
   "cell_type": "code",
   "execution_count": 50,
   "id": "411442e0",
   "metadata": {},
   "outputs": [],
   "source": [
    "# Definiere eine Funktion, die folgendes macht:\n",
    "# separate(array([[0.37439962, 0.3130642 ],\n",
    "#                 [0.15061138, 0.13846712],\n",
    "#                 [0.99044808, 0.54289507],\n",
    "#                 [0.03670066, 0.21479558],\n",
    "#                 [0.83293058, 0.26468362]]), 3) \n",
    "# Output:\n",
    "# (array([[0.69015301, 0.1991521 ],\n",
    "#         [0.81496534, 0.60210135],\n",
    "#         [0.46524354, 0.78118968]]),\n",
    "#  array([[0.09578038, 0.29824532],\n",
    "#         [0.72648886, 0.49476367]]))\n",
    "\n",
    "\n",
    "def separate(arr, n):\n",
    "    return \"todo\"\n"
   ]
  },
  {
   "cell_type": "code",
   "execution_count": 51,
   "id": "3b0abe8a",
   "metadata": {},
   "outputs": [
    {
     "data": {
      "text/plain": [
       "'todo'"
      ]
     },
     "execution_count": 51,
     "metadata": {},
     "output_type": "execute_result"
    }
   ],
   "source": [
    "separate(np.random.rand(5,2), 3)"
   ]
  },
  {
   "cell_type": "code",
   "execution_count": 52,
   "id": "227cb99c",
   "metadata": {},
   "outputs": [],
   "source": [
    "# Definiere eine Funktion, die wie separate funktioniert, aber nun die andere Dimension separiert!\n",
    "def separate_2(arr, n):\n",
    "    return \"todo\"\n"
   ]
  },
  {
   "cell_type": "code",
   "execution_count": null,
   "id": "5b8903e4",
   "metadata": {},
   "outputs": [],
   "source": []
  },
  {
   "cell_type": "code",
   "execution_count": null,
   "id": "6c359b34",
   "metadata": {},
   "outputs": [],
   "source": []
  },
  {
   "cell_type": "code",
   "execution_count": 53,
   "id": "5a15a3e0",
   "metadata": {},
   "outputs": [],
   "source": [
    "# Schreibe eine Funktion, die an einer Liste von Indices, \n",
    "# eine 1 schreibt. Ansonsten soll das Array nur aus 0en bestehen\n",
    "\n",
    "# fill((3,3), np.array([(1,2), (0,0)])) == np.array([[1,0,0],[0,0,1],[0,0,0]])\n",
    "\n",
    "def fill(sz, ibnds):\n",
    "    return \"todo\""
   ]
  },
  {
   "cell_type": "code",
   "execution_count": null,
   "id": "c1b0a24b",
   "metadata": {},
   "outputs": [],
   "source": []
  },
  {
   "cell_type": "code",
   "execution_count": null,
   "id": "4e563208",
   "metadata": {},
   "outputs": [],
   "source": []
  },
  {
   "cell_type": "markdown",
   "id": "5650c746",
   "metadata": {},
   "source": [
    "# 6. Plotten"
   ]
  },
  {
   "cell_type": "code",
   "execution_count": 54,
   "id": "0b164260",
   "metadata": {},
   "outputs": [],
   "source": [
    "# plotte zwei Perioden von einer Sinus und Cosinus Kurve\n"
   ]
  },
  {
   "cell_type": "code",
   "execution_count": 55,
   "id": "6fb0a592",
   "metadata": {},
   "outputs": [],
   "source": [
    "# Versuche 5 Datenpunkte mit Recyclingquote über Jahreszahl zu finden.\n",
    "# Erstelle einen Plot mit Achsenbeschriftung, Titel und Legende"
   ]
  },
  {
   "cell_type": "code",
   "execution_count": 56,
   "id": "0a7adca7",
   "metadata": {},
   "outputs": [
    {
     "data": {
      "text/plain": [
       "[<matplotlib.lines.Line2D at 0x7fb8b3063a10>]"
      ]
     },
     "execution_count": 56,
     "metadata": {},
     "output_type": "execute_result"
    },
    {
     "data": {
      "image/png": "[encoded data removed]",
      "text/plain": [
       "<Figure size 640x480 with 1 Axes>"
      ]
     },
     "metadata": {},
     "output_type": "display_data"
    }
   ],
   "source": [
    "plt.plot([1,2,3],[1,2,9])"
   ]
  },
  {
   "cell_type": "code",
   "execution_count": null,
   "id": "5e400a60",
   "metadata": {},
   "outputs": [],
   "source": []
  }
 ],
 "metadata": {
  "kernelspec": {
   "display_name": "Python 3 (ipykernel)",
   "language": "python",
   "name": "python3"
  },
  "language_info": {
   "codemirror_mode": {
    "name": "ipython",
    "version": 3
   },
   "file_extension": ".py",
   "mimetype": "text/x-python",
   "name": "python",
   "nbconvert_exporter": "python",
   "pygments_lexer": "ipython3",
   "version": "3.11.3"
  }
 },
 "nbformat": 4,
 "nbformat_minor": 5
}
