{
 "cells": [
  {
   "cell_type": "markdown",
   "id": "b25a0efb",
   "metadata": {},
   "source": [
    "# 1. Generelle Python Übungen\n",
    "\n",
    "In diesem Notebook könnt ihr erneut eure generellen Python Kenntnisse auffrischen und üben."
   ]
  },
  {
   "cell_type": "code",
   "execution_count": 4,
   "id": "621f22f1",
   "metadata": {},
   "outputs": [],
   "source": [
    "# import der NumPy Library\n",
    "import numpy as np\n",
    "\n",
    "# import der plot library\n",
    "import matplotlib.pyplot as plt"
   ]
  },
  {
   "cell_type": "code",
   "execution_count": 5,
   "id": "4ed45ccc",
   "metadata": {},
   "outputs": [],
   "source": [
    "x = 1\n",
    "y = 2"
   ]
  },
  {
   "cell_type": "code",
   "execution_count": 6,
   "id": "30b73fd2",
   "metadata": {},
   "outputs": [
    {
     "data": {
      "text/plain": [
       "3"
      ]
     },
     "execution_count": 6,
     "metadata": {},
     "output_type": "execute_result"
    }
   ],
   "source": [
    "# Addiere hier x und y\n",
    "x + y"
   ]
  },
  {
   "cell_type": "code",
   "execution_count": 7,
   "id": "59cf06c9",
   "metadata": {},
   "outputs": [],
   "source": [
    "a = \"Nachhaltig\"\n",
    "b = \"keit\""
   ]
  },
  {
   "cell_type": "code",
   "execution_count": 8,
   "id": "0a859931",
   "metadata": {},
   "outputs": [
    {
     "data": {
      "text/plain": [
       "'Nachhaltigkeit'"
      ]
     },
     "execution_count": 8,
     "metadata": {},
     "output_type": "execute_result"
    }
   ],
   "source": [
    "# Addiere hier a und b, was erwartest du?\n",
    "a + b"
   ]
  },
  {
   "cell_type": "code",
   "execution_count": 9,
   "id": "be094d86",
   "metadata": {},
   "outputs": [],
   "source": [
    "def f(a,b):\n",
    "    return a + b"
   ]
  },
  {
   "cell_type": "code",
   "execution_count": 10,
   "id": "f4b90f06",
   "metadata": {},
   "outputs": [
    {
     "data": {
      "text/plain": [
       "3"
      ]
     },
     "execution_count": 10,
     "metadata": {},
     "output_type": "execute_result"
    }
   ],
   "source": [
    "# Rufe nun die Funktion f mit x und y auf\n",
    "f(x,y)"
   ]
  },
  {
   "cell_type": "code",
   "execution_count": 11,
   "id": "6cda8e06",
   "metadata": {},
   "outputs": [
    {
     "data": {
      "text/plain": [
       "'Nachhaltigkeit'"
      ]
     },
     "execution_count": 11,
     "metadata": {},
     "output_type": "execute_result"
    }
   ],
   "source": [
    "# Rufe nun die Funktion f mit a und b auf\n",
    "f(a,b)"
   ]
  },
  {
   "cell_type": "markdown",
   "id": "dd14a3d7",
   "metadata": {},
   "source": [
    "# 2. Listen und Arrays"
   ]
  },
  {
   "cell_type": "code",
   "execution_count": 12,
   "id": "f3a62172",
   "metadata": {},
   "outputs": [
    {
     "data": {
      "text/plain": [
       "[1, 2]"
      ]
     },
     "execution_count": 12,
     "metadata": {},
     "output_type": "execute_result"
    }
   ],
   "source": [
    "l = []\n",
    "l.append(1)\n",
    "l.append(2)\n",
    "\n",
    "l"
   ]
  },
  {
   "cell_type": "code",
   "execution_count": 13,
   "id": "0da243df",
   "metadata": {},
   "outputs": [],
   "source": [
    "# Die ist eine Liste von Zahlen\n",
    "l = [1,2,3,4,5,6]"
   ]
  },
  {
   "cell_type": "code",
   "execution_count": 14,
   "id": "bcf22bbd",
   "metadata": {},
   "outputs": [
    {
     "data": {
      "text/plain": [
       "array([1, 2, 3, 4, 5, 6])"
      ]
     },
     "execution_count": 14,
     "metadata": {},
     "output_type": "execute_result"
    }
   ],
   "source": [
    "# ein NumPy array\n",
    "array = np.array(l)\n",
    "array"
   ]
  },
  {
   "cell_type": "code",
   "execution_count": 15,
   "id": "8c512b77",
   "metadata": {},
   "outputs": [
    {
     "data": {
      "text/plain": [
       "array([0, 1, 2, 3, 4, 5, 6, 7, 8, 9])"
      ]
     },
     "execution_count": 15,
     "metadata": {},
     "output_type": "execute_result"
    }
   ],
   "source": [
    "a = np.array(range(10))\n",
    "a"
   ]
  },
  {
   "cell_type": "code",
   "execution_count": 16,
   "id": "b309a417",
   "metadata": {},
   "outputs": [
    {
     "data": {
      "text/plain": [
       "2266198441733304036994229441541914294374731076208098668299167410481095483635988895531597282959594504652629367722209610000000000000000000000000000000000000000000000000000000000000000000000000000000000000000000000000000000000000000000000000000000000000000000000000000000000000000000000000000000000000000000000000000000000000000000000000000000000000000000000000000000000000000000000000000000000000000000000000000000000000000000000000000000000000000000000000000000000000000000000000000000000000000000000000000000000000000000000000000000000000000000000000000000000000000000000000000000000000000000000000000000000000000000000000000000000000000000000000000000000000000000000000000000000000000000000000000000000000000000000000000000000000000000000000000000000000000000000000000000000000000000000000000000000000000000000000000000000000000000000000000000000000000000000000000000000000000000000000000000000000000000000000000000000000000000000000000000000000000000000000000000000000000000000000000000000000000000000000000000000000000000000000000000000000000000000000000000000000000000000000000000000000000000000000000000000000000000000000000000000000000000000000000000000000000000000000000000000000000000000000000000000000000000000000000000000000000000000000000000000000000000000000000000000000000000000000000000000000000000000000000000000000000000000000000000000000000000000000000000000000000000000000000000000000000000000000000000000000000000000000000000000000000000000000000000000000000000000000000000000000000000000000000000000000000000000000000000000000000000000000000000000000000000000000000000000000000000000000000000000000000000000000000000000000000000000000000000000000000000000000000000000000000000000000000000000000000000000000000000000000000000000000000000000000000000000000000000000000000"
      ]
     },
     "execution_count": 16,
     "metadata": {},
     "output_type": "execute_result"
    }
   ],
   "source": [
    "44100000000000000000000000000000000000000**44"
   ]
  },
  {
   "cell_type": "code",
   "execution_count": 36,
   "id": "e0944bf3",
   "metadata": {},
   "outputs": [
    {
     "data": {
      "text/plain": [
       "array([ 2,  4,  6,  8, 10, 12, 14, 16, 18, 20])"
      ]
     },
     "execution_count": 36,
     "metadata": {},
     "output_type": "execute_result"
    }
   ],
   "source": [
    "# Erstelle ein Array das die Elemente [2, 4, ..., 20] enthält\n",
    "np.array(range(2,21,2))"
   ]
  },
  {
   "cell_type": "code",
   "execution_count": 35,
   "id": "155f6fa4",
   "metadata": {},
   "outputs": [
    {
     "data": {
      "text/plain": [
       "array([ 2,  4,  6,  8, 10, 12, 14, 16, 18, 20])"
      ]
     },
     "execution_count": 35,
     "metadata": {},
     "output_type": "execute_result"
    }
   ],
   "source": [
    "# Nur mit * und + operationen\n",
    "np.array([2 + i * 2 for i in range(10)])"
   ]
  },
  {
   "cell_type": "code",
   "execution_count": 37,
   "id": "6f261add",
   "metadata": {},
   "outputs": [
    {
     "data": {
      "text/plain": [
       "array([ 2,  4,  6,  8, 10, 12, 14, 16, 18, 20])"
      ]
     },
     "execution_count": 37,
     "metadata": {},
     "output_type": "execute_result"
    }
   ],
   "source": [
    "# Mit range\n",
    "np.arange(2, 21, 2)"
   ]
  },
  {
   "cell_type": "code",
   "execution_count": 41,
   "id": "2ab6879b",
   "metadata": {},
   "outputs": [
    {
     "data": {
      "text/plain": [
       "array([ 2,  4,  6,  8, 10, 12, 14, 16, 18, 20])"
      ]
     },
     "execution_count": 41,
     "metadata": {},
     "output_type": "execute_result"
    }
   ],
   "source": [
    "np.linspace(2, 20, 10, dtype=int)"
   ]
  },
  {
   "cell_type": "code",
   "execution_count": 43,
   "id": "8d3ffdac",
   "metadata": {},
   "outputs": [
    {
     "data": {
      "text/plain": [
       "array([ 2,  4,  6,  8, 10, 12, 14, 16, 18, 20])"
      ]
     },
     "execution_count": 43,
     "metadata": {},
     "output_type": "execute_result"
    }
   ],
   "source": [
    "# Mit np.linspace\n",
    "# Tippe ?np.linspace für Hilfe\n",
    "?np.linspace\n",
    "np.linspace(2, 20, 10, dtype=int)"
   ]
  },
  {
   "cell_type": "markdown",
   "id": "3053f3f1",
   "metadata": {},
   "source": [
    "## 2.1 List Comprehension\n",
    "\n"
   ]
  },
  {
   "cell_type": "code",
   "execution_count": 52,
   "id": "fc00902c",
   "metadata": {},
   "outputs": [
    {
     "data": {
      "text/plain": [
       "[3.0,\n",
       " 2.5,\n",
       " 2.414213562373095,\n",
       " 2.482050807568877,\n",
       " 2.6,\n",
       " 2.73606797749979,\n",
       " 2.8780611713546063,\n",
       " 3.0207513110645907,\n",
       " 3.1617604580795238,\n",
       " 3.3]"
      ]
     },
     "execution_count": 52,
     "metadata": {},
     "output_type": "execute_result"
    }
   ],
   "source": [
    "# Was macht dieser Ausdruck?\n",
    "[np.sqrt(i) + 3 / (i + 1) for i in range(10)]"
   ]
  },
  {
   "cell_type": "code",
   "execution_count": 53,
   "id": "5e5133d6",
   "metadata": {},
   "outputs": [
    {
     "data": {
      "text/plain": [
       "array([0, 1, 2, 3, 4, 5, 6, 7, 8, 9])"
      ]
     },
     "execution_count": 53,
     "metadata": {},
     "output_type": "execute_result"
    }
   ],
   "source": [
    "np.array([i for i in range(10)])"
   ]
  },
  {
   "cell_type": "code",
   "execution_count": 57,
   "id": "3de0304c",
   "metadata": {},
   "outputs": [
    {
     "data": {
      "text/plain": [
       "[126]"
      ]
     },
     "execution_count": 57,
     "metadata": {},
     "output_type": "execute_result"
    }
   ],
   "source": [
    "[i + 123 for i in range(10) if i > 2 and i <= 4 and i % 2 == 1]"
   ]
  },
  {
   "cell_type": "code",
   "execution_count": 58,
   "id": "1ab7f49c",
   "metadata": {},
   "outputs": [
    {
     "data": {
      "text/plain": [
       "[4, 6, 8]"
      ]
     },
     "execution_count": 58,
     "metadata": {},
     "output_type": "execute_result"
    }
   ],
   "source": [
    "[i for i in range(10) if i > 2 and i % 2 == 0]"
   ]
  },
  {
   "cell_type": "code",
   "execution_count": 65,
   "id": "392a9825",
   "metadata": {},
   "outputs": [
    {
     "data": {
      "text/plain": [
       "[1,\n",
       " 3,\n",
       " 5,\n",
       " 7,\n",
       " 9,\n",
       " 11,\n",
       " 13,\n",
       " 15,\n",
       " 17,\n",
       " 19,\n",
       " 21,\n",
       " 23,\n",
       " 25,\n",
       " 27,\n",
       " 29,\n",
       " 31,\n",
       " 33,\n",
       " 35,\n",
       " 37,\n",
       " 39,\n",
       " 41,\n",
       " 43,\n",
       " 45,\n",
       " 47,\n",
       " 49,\n",
       " 51,\n",
       " 53,\n",
       " 55,\n",
       " 57,\n",
       " 59,\n",
       " 61,\n",
       " 63,\n",
       " 65,\n",
       " 67,\n",
       " 69,\n",
       " 71,\n",
       " 73,\n",
       " 75,\n",
       " 77,\n",
       " 79,\n",
       " 81,\n",
       " 83,\n",
       " 85,\n",
       " 87,\n",
       " 89,\n",
       " 91,\n",
       " 93,\n",
       " 95,\n",
       " 97,\n",
       " 99]"
      ]
     },
     "execution_count": 65,
     "metadata": {},
     "output_type": "execute_result"
    }
   ],
   "source": [
    "# Versuche nun mit den Hinweisen eine Liste zurückzugeben, die die ersten 50 ungeraden Zahlen enthält\n",
    "odd = []\n",
    "i = 0\n",
    "\n",
    "while len(odd) < 50:\n",
    "    if i % 2 != 0:\n",
    "        odd.append(i)\n",
    "    i += 1\n",
    "    #i = i + 1\n",
    "    \n",
    "odd"
   ]
  },
  {
   "cell_type": "code",
   "execution_count": 68,
   "id": "1118a893",
   "metadata": {},
   "outputs": [
    {
     "data": {
      "text/plain": [
       "[2, 3, 4]"
      ]
     },
     "execution_count": 68,
     "metadata": {},
     "output_type": "execute_result"
    }
   ],
   "source": [
    "j = 2\n",
    "[i + j for i in range(3)]"
   ]
  },
  {
   "cell_type": "code",
   "execution_count": 71,
   "id": "fe6de08f",
   "metadata": {},
   "outputs": [
    {
     "data": {
      "text/plain": [
       "[[0, 1, 2], [1, 2, 3], [2, 3, 4]]"
      ]
     },
     "execution_count": 71,
     "metadata": {},
     "output_type": "execute_result"
    }
   ],
   "source": [
    "# Hilfe\n",
    "[[i + j for i in range(3)] for j in range(3)]"
   ]
  },
  {
   "cell_type": "code",
   "execution_count": 73,
   "id": "a68e3f4a",
   "metadata": {},
   "outputs": [
    {
     "ename": "ValueError",
     "evalue": "setting an array element with a sequence. The requested array has an inhomogeneous shape after 1 dimensions. The detected shape was (3,) + inhomogeneous part.",
     "output_type": "error",
     "traceback": [
      "\u001b[0;31m---------------------------------------------------------------------------\u001b[0m",
      "\u001b[0;31mValueError\u001b[0m                                Traceback (most recent call last)",
      "Cell \u001b[0;32mIn[73], line 1\u001b[0m\n\u001b[0;32m----> 1\u001b[0m \u001b[43mnp\u001b[49m\u001b[38;5;241;43m.\u001b[39;49m\u001b[43marray\u001b[49m\u001b[43m(\u001b[49m\u001b[43m[\u001b[49m\u001b[43m[\u001b[49m\u001b[38;5;241;43m0\u001b[39;49m\u001b[43m]\u001b[49m\u001b[43m,\u001b[49m\u001b[43m \u001b[49m\u001b[43m[\u001b[49m\u001b[38;5;241;43m1\u001b[39;49m\u001b[43m,\u001b[49m\u001b[38;5;241;43m2\u001b[39;49m\u001b[43m]\u001b[49m\u001b[43m,\u001b[49m\u001b[43m \u001b[49m\u001b[43m[\u001b[49m\u001b[38;5;241;43m2\u001b[39;49m\u001b[43m,\u001b[49m\u001b[38;5;241;43m3\u001b[39;49m\u001b[43m,\u001b[49m\u001b[38;5;241;43m4\u001b[39;49m\u001b[43m]\u001b[49m\u001b[43m]\u001b[49m\u001b[43m)\u001b[49m\n",
      "\u001b[0;31mValueError\u001b[0m: setting an array element with a sequence. The requested array has an inhomogeneous shape after 1 dimensions. The detected shape was (3,) + inhomogeneous part."
     ]
    }
   ],
   "source": [
    "np.array([[0], [1,2], [2,3,4]])"
   ]
  },
  {
   "cell_type": "code",
   "execution_count": 75,
   "id": "d1fc8d4b",
   "metadata": {},
   "outputs": [
    {
     "data": {
      "text/plain": [
       "[[1, 4, 7], [2, 5, 8], [3, 6, 9]]"
      ]
     },
     "execution_count": 75,
     "metadata": {},
     "output_type": "execute_result"
    }
   ],
   "source": [
    "[[i + j for i in range(1,8,3)] for j in range(3)]"
   ]
  },
  {
   "cell_type": "code",
   "execution_count": 74,
   "id": "27557528",
   "metadata": {},
   "outputs": [
    {
     "data": {
      "text/plain": [
       "array([[0, 1, 2],\n",
       "       [3, 4, 5],\n",
       "       [6, 7, 8]])"
      ]
     },
     "execution_count": 74,
     "metadata": {},
     "output_type": "execute_result"
    }
   ],
   "source": [
    "np.array([[i + 3 * j for i in range(3)] for j in range(3)])"
   ]
  },
  {
   "cell_type": "code",
   "execution_count": 27,
   "id": "91ea17ed",
   "metadata": {},
   "outputs": [
    {
     "data": {
      "text/plain": [
       "array([[0, 1, 2],\n",
       "       [3, 4, 5],\n",
       "       [6, 7, 8]])"
      ]
     },
     "execution_count": 27,
     "metadata": {},
     "output_type": "execute_result"
    }
   ],
   "source": [
    "# Versuche eine Matrix mit for Schleifen zu bauen, die so aussieht: [[0,1,2],[3,4,5],[6,7,8]]\n",
    "a = np.zeros((3,3), dtype=int)\n",
    "for i in range(3):\n",
    "    for j in range(3):\n",
    "        a[i,j] = 3 * i + j\n",
    "a\n",
    "            "
   ]
  },
  {
   "cell_type": "code",
   "execution_count": 78,
   "id": "3e332b83",
   "metadata": {},
   "outputs": [
    {
     "data": {
      "text/plain": [
       "array([[0, 0, 0],\n",
       "       [0, 0, 0],\n",
       "       [0, 0, 0]])"
      ]
     },
     "execution_count": 78,
     "metadata": {},
     "output_type": "execute_result"
    }
   ],
   "source": [
    "np.zeros((3,3), dtype=int)"
   ]
  },
  {
   "cell_type": "code",
   "execution_count": 28,
   "id": "266c5e00",
   "metadata": {},
   "outputs": [],
   "source": [
    "# Versuche eine Matrix mit for Schleifen zu bauen, die so aussieht: [[1,4,7],[2,5,8],[3,6,9]]\n"
   ]
  },
  {
   "cell_type": "code",
   "execution_count": 29,
   "id": "58bc3d08",
   "metadata": {},
   "outputs": [
    {
     "data": {
      "text/plain": [
       "array([[1, 4, 7],\n",
       "       [2, 5, 8],\n",
       "       [3, 6, 9]])"
      ]
     },
     "execution_count": 29,
     "metadata": {},
     "output_type": "execute_result"
    }
   ],
   "source": [
    "a.transpose() + 1"
   ]
  },
  {
   "cell_type": "code",
   "execution_count": 30,
   "id": "c79db051",
   "metadata": {},
   "outputs": [
    {
     "data": {
      "text/plain": [
       "array([[1, 4, 7],\n",
       "       [2, 5, 8],\n",
       "       [3, 6, 9]])"
      ]
     },
     "execution_count": 30,
     "metadata": {},
     "output_type": "execute_result"
    }
   ],
   "source": [
    "a = np.zeros((3,3), dtype=int)\n",
    "for i in range(3):\n",
    "    for j in range(3):\n",
    "        a[i,j] = 3 * j + i + 1\n",
    "        \n",
    "a\n",
    "            "
   ]
  },
  {
   "cell_type": "markdown",
   "id": "f06903e4",
   "metadata": {},
   "source": [
    "# 3. Zufallszahlen"
   ]
  },
  {
   "cell_type": "code",
   "execution_count": 269,
   "id": "a6890060",
   "metadata": {},
   "outputs": [
    {
     "data": {
      "text/plain": [
       "1.0523622926192642"
      ]
     },
     "execution_count": 269,
     "metadata": {},
     "output_type": "execute_result"
    }
   ],
   "source": [
    "# Was macht diese Funktion?\n",
    "np.random.randn()"
   ]
  },
  {
   "cell_type": "code",
   "execution_count": 308,
   "id": "0283bbb3",
   "metadata": {},
   "outputs": [
    {
     "data": {
      "text/plain": [
       "['Elisabeth', 'Filip']"
      ]
     },
     "execution_count": 308,
     "metadata": {},
     "output_type": "execute_result"
    }
   ],
   "source": [
    "a = [\"Filip\", \"Elisabeth\"]\n",
    "np.random.shuffle(a)\n",
    "a"
   ]
  },
  {
   "cell_type": "code",
   "execution_count": 92,
   "id": "168d986c",
   "metadata": {
    "scrolled": true
   },
   "outputs": [
    {
     "data": {
      "text/plain": [
       "1"
      ]
     },
     "execution_count": 92,
     "metadata": {},
     "output_type": "execute_result"
    }
   ],
   "source": [
    "round(np.floor(np.sqrt(x)))"
   ]
  },
  {
   "cell_type": "code",
   "execution_count": 128,
   "id": "a4787067",
   "metadata": {},
   "outputs": [],
   "source": [
    "def is_prime(x):\n",
    "    if x % 2 == 0:\n",
    "        return False\n",
    "    \n",
    "    for i in range(3, int(np.floor(np.sqrt(x))), 2):\n",
    "        if x % i == 0:\n",
    "            return False\n",
    "        \n",
    "    return True"
   ]
  },
  {
   "cell_type": "code",
   "execution_count": 129,
   "id": "d2d772d3",
   "metadata": {
    "scrolled": true
   },
   "outputs": [
    {
     "data": {
      "text/plain": [
       "0.10000000000000009"
      ]
     },
     "execution_count": 129,
     "metadata": {},
     "output_type": "execute_result"
    }
   ],
   "source": [
    "1.1 % 1"
   ]
  },
  {
   "cell_type": "code",
   "execution_count": 135,
   "id": "92fcca93",
   "metadata": {},
   "outputs": [
    {
     "name": "stdout",
     "output_type": "stream",
     "text": [
      "10000000000000061\n"
     ]
    }
   ],
   "source": [
    "for i in range(10000000000000000, 1000000000000000000000000000):\n",
    "    if is_prime(i):\n",
    "        print(i)\n",
    "        break"
   ]
  },
  {
   "cell_type": "code",
   "execution_count": 502,
   "id": "54194275",
   "metadata": {},
   "outputs": [
    {
     "data": {
      "text/plain": [
       "True"
      ]
     },
     "execution_count": 502,
     "metadata": {},
     "output_type": "execute_result"
    }
   ],
   "source": [
    "# Erstelle eine Funktion, die ein (3,3) Array zufälligen Zahlen zurückgibt.\n",
    "is_prime(1_299_709)"
   ]
  },
  {
   "cell_type": "code",
   "execution_count": 314,
   "id": "5ee189b3",
   "metadata": {},
   "outputs": [
    {
     "name": "stdout",
     "output_type": "stream",
     "text": [
      "392 ms ± 20.2 ms per loop (mean ± std. dev. of 7 runs, 1 loop each)\n"
     ]
    }
   ],
   "source": [
    "%%timeit\n",
    "np.random.rand(10000, 10000);"
   ]
  },
  {
   "cell_type": "code",
   "execution_count": 316,
   "id": "f624ce6b",
   "metadata": {},
   "outputs": [
    {
     "data": {
      "text/plain": [
       "-0.8863285706164188"
      ]
     },
     "execution_count": 316,
     "metadata": {},
     "output_type": "execute_result"
    }
   ],
   "source": [
    "# Erstelle eine Funktion, die Array mit zufälligen, gleichverteilten Zahlen aus dem Interval [0,1] zurückgibt\n",
    "np.random.randn()"
   ]
  },
  {
   "cell_type": "code",
   "execution_count": null,
   "id": "98390b57",
   "metadata": {},
   "outputs": [],
   "source": []
  },
  {
   "cell_type": "code",
   "execution_count": 332,
   "id": "88a6739c",
   "metadata": {},
   "outputs": [
    {
     "data": {
      "text/plain": [
       "'a'"
      ]
     },
     "execution_count": 332,
     "metadata": {},
     "output_type": "execute_result"
    }
   ],
   "source": [
    "# Erstelle eine Funktion, die zufällig die Buchstaben \"a\" und \"b\" zurückgibt.\n",
    "# kleiner Tipp mit: [\"a\", \"b\"][1] oder [\"a\", \"b\"][0] greift man auf ein Listen Element zu\n",
    "\n",
    "def f():\n",
    "    return [\"a\",\"b\"][round(np.random.rand())]\n",
    "    \n",
    "f()\n",
    "\n",
    "\n",
    "def g():\n",
    "    x = [\"a\",\"b\"]\n",
    "    return np.random.choice(x)\n",
    "    \n",
    "g()\n",
    "\n",
    "\n"
   ]
  },
  {
   "cell_type": "code",
   "execution_count": 325,
   "id": "f7c60f3e",
   "metadata": {},
   "outputs": [],
   "source": [
    "def a_or_b():\n",
    "    if np.random.rand() < 0.5:\n",
    "        return \"a\"\n",
    "    else:\n",
    "        return \"b\"\n",
    "    "
   ]
  },
  {
   "cell_type": "code",
   "execution_count": 92,
   "id": "3b425ec0",
   "metadata": {},
   "outputs": [
    {
     "data": {
      "text/plain": [
       "'b'"
      ]
     },
     "execution_count": 92,
     "metadata": {},
     "output_type": "execute_result"
    }
   ],
   "source": [
    "a_or_b()"
   ]
  },
  {
   "cell_type": "code",
   "execution_count": 99,
   "id": "4f9f7e26",
   "metadata": {},
   "outputs": [],
   "source": [
    "?np.random.rand"
   ]
  },
  {
   "cell_type": "code",
   "execution_count": 354,
   "id": "03d1d27d",
   "metadata": {},
   "outputs": [],
   "source": [
    "a = [1,2,3,4,5,6,7,8,9]"
   ]
  },
  {
   "cell_type": "code",
   "execution_count": 359,
   "id": "29632bbc",
   "metadata": {},
   "outputs": [
    {
     "data": {
      "text/plain": [
       "4"
      ]
     },
     "execution_count": 359,
     "metadata": {},
     "output_type": "execute_result"
    }
   ],
   "source": [
    "# Erstelle eine Funktion, die zufällig ein Listenelement\n",
    "# aus einer beliebigen Liste zurückgibt\n",
    "def random_pick(names):\n",
    "    index = np.random.randint(len(names))\n",
    "    return names[index]\n",
    "    \n",
    "    #return names[np.random.randint(len(names))]\n",
    "\n",
    "random_pick([1,2,3,4,5])"
   ]
  },
  {
   "cell_type": "code",
   "execution_count": 419,
   "id": "3c77d3cb",
   "metadata": {},
   "outputs": [],
   "source": [
    "# Schreibe eine Funktion, die eine Liste zufällig durchmischt\n",
    "def random_mix(names):\n",
    "    names_n = names.copy()\n",
    "    new_list = []\n",
    "    \n",
    "    counter = 0\n",
    "    for i in range(len(names)):\n",
    "\n",
    "        name = np.random.choice(names_n)\n",
    "        names_n.remove(name)\n",
    "        new_list.append((name, counter))\n",
    "        counter += 1\n",
    "        \n",
    "    return new_list"
   ]
  },
  {
   "cell_type": "code",
   "execution_count": 422,
   "id": "9cddd5ec",
   "metadata": {},
   "outputs": [
    {
     "data": {
      "text/plain": [
       "[('Felix', 0), ('Filip', 1), ('Filip', 2), ('Maxi', 3)]"
      ]
     },
     "execution_count": 422,
     "metadata": {},
     "output_type": "execute_result"
    }
   ],
   "source": [
    "random_mix([\"Filip\", \"Maxi\", \"Felix\", \"Filip\"])"
   ]
  },
  {
   "cell_type": "code",
   "execution_count": 406,
   "id": "5e2e8d04",
   "metadata": {},
   "outputs": [],
   "source": [
    "# Schreibe eine Funktion, die aus einer Liste mit Namen folgenden zufälligen Output erzeugt:\n",
    "# Input: [\"Myrdin\", \"Thyra\", \"Siyi\"]\n",
    "# Output: [(1, \"Myrdin\"), (0, \"Thyra\"), (2, \"Siyi\")]\n",
    "# oder: [(2, \"Siyi\"), (0, \"Thyra\"), (1, \"Myrdin\")]\n",
    "\n",
    "\n",
    "# Benutze dafür z.B. l.append wobei l eine Liste ist. \n",
    "\n",
    "\n"
   ]
  },
  {
   "cell_type": "markdown",
   "id": "078e0ca3",
   "metadata": {},
   "source": [
    "# 4. Funktionen"
   ]
  },
  {
   "cell_type": "code",
   "execution_count": null,
   "id": "c07c60f6",
   "metadata": {},
   "outputs": [],
   "source": [
    "def f():\n",
    "    if 5 > 3:\n",
    "        return \"hallo\"\n",
    "    else:\n",
    "        \"blub\""
   ]
  },
  {
   "cell_type": "code",
   "execution_count": null,
   "id": "e9a51cb3",
   "metadata": {},
   "outputs": [],
   "source": [
    "f()"
   ]
  },
  {
   "cell_type": "code",
   "execution_count": 431,
   "id": "a935689f",
   "metadata": {},
   "outputs": [],
   "source": [
    "# Schreibe eine Funktion mit folgendem Output:\n",
    "# fizzbuzz(1) == \"1\"\n",
    "# fizzbuzz(2) == \"2\"\n",
    "# fizzbuzz(3) == \"Fizz\"\n",
    "# fizzbuzz(5) == \"Buzz\"\n",
    "# fizzbuzz(15) == \"Fizz Buzz\"\n",
    "\n",
    "def single_fizzbuzz(i):\n",
    "    \n",
    "#    for i in range(1, n):\n",
    "    if i % 15 == 0:\n",
    "        print(\"Fizz Buzz\")\n",
    "    elif i % 3 == 0:\n",
    "        print(\"Fizz\")\n",
    "    elif i % 5 == 0:\n",
    "        print(\"Buzz\")\n",
    "    else:\n",
    "        print(i)\n"
   ]
  },
  {
   "cell_type": "code",
   "execution_count": 449,
   "id": "ab6dc631",
   "metadata": {},
   "outputs": [],
   "source": [
    "# Schreibe eine Funktion mit folgendem Output:\n",
    "# fizzbuzz(1) == \"1\"\n",
    "# fizzbuzz(2) == \"2\"\n",
    "# fizzbuzz(3) == \"Fizz\"\n",
    "# fizzbuzz(5) == \"Buzz\"\n",
    "# fizzbuzz(15) == \"Fizz Buzz\"\n",
    "\n",
    "def single_fizzbuzz(i):\n",
    "    if i <= 1:\n",
    "        raise(ArithmeticError(\"NAka\"))\n",
    "    string = \"\"\n",
    "#    for i in range(1, n):\n",
    "    if i % 3 == 0:\n",
    "        string += \"Fizz\"\n",
    "    if i % 5 == 0:\n",
    "        string += \"Buzz\"\n",
    "    \n",
    "    if string == \"\":\n",
    "        print(i)\n",
    "    else:\n",
    "        print(string)\n"
   ]
  },
  {
   "cell_type": "code",
   "execution_count": 451,
   "id": "12a2804d",
   "metadata": {},
   "outputs": [
    {
     "name": "stdout",
     "output_type": "stream",
     "text": [
      "13\n"
     ]
    }
   ],
   "source": [
    "single_fizzbuzz(13)"
   ]
  },
  {
   "cell_type": "code",
   "execution_count": null,
   "id": "5aee0fa9",
   "metadata": {},
   "outputs": [],
   "source": [
    "# Schreibe eine Funktion mit folgendem Output:\n",
    "# fizzbuzz(16) == \"1, 2, Fizz, 4, Buzz, Fizz, 7, 8, Fizz, Buzz, 11, Fizz, 13, 14, Fizz Buzz\"\n",
    "# Das heißt die Länge des Outputs hängt von der Zahl ab. Der Output soll entweder ein langer String oder \n",
    "# eine lange Liste sein\n",
    "def fizzbuzz(n):\n",
    "    return \"fizzbuzz\"\n"
   ]
  },
  {
   "cell_type": "code",
   "execution_count": null,
   "id": "97dcf5a0",
   "metadata": {},
   "outputs": [],
   "source": []
  },
  {
   "cell_type": "code",
   "execution_count": 456,
   "id": "c8264268",
   "metadata": {},
   "outputs": [],
   "source": [
    "# Schreibe eine Funktion sum, die alle Listen Elemente addiert\n",
    "# verwende dafür das Konstrukt: for element in liste\n",
    "\n",
    "def sum(x):\n",
    "    acc = 0\n",
    "    \n",
    "    #for i in range(len(x)):\n",
    "    #    acc += x[i]\n",
    "        \n",
    "    for element in x:\n",
    "        acc += element\n",
    "\n",
    "    return acc"
   ]
  },
  {
   "cell_type": "code",
   "execution_count": 457,
   "id": "105eba2d",
   "metadata": {},
   "outputs": [
    {
     "data": {
      "text/plain": [
       "15"
      ]
     },
     "execution_count": 457,
     "metadata": {},
     "output_type": "execute_result"
    }
   ],
   "source": [
    "sum([1,2,3,4,5])"
   ]
  },
  {
   "cell_type": "code",
   "execution_count": 468,
   "id": "21e94733",
   "metadata": {},
   "outputs": [],
   "source": [
    "# Schreibe eine Funktion sum, die alle positiven Listen Elemente addiert\n",
    "# verwende dafür das Konstrukt: for element in liste\n",
    "\n",
    "def positive(x):\n",
    "    acc = 0\n",
    "        \n",
    "    for element in x:\n",
    "        if element > 0:\n",
    "            acc += element\n",
    "\n",
    "    return acc"
   ]
  },
  {
   "cell_type": "code",
   "execution_count": 469,
   "id": "3ca070cb",
   "metadata": {},
   "outputs": [
    {
     "data": {
      "text/plain": [
       "3"
      ]
     },
     "execution_count": 469,
     "metadata": {},
     "output_type": "execute_result"
    }
   ],
   "source": [
    "positive([-1, 1, 2, -1])"
   ]
  },
  {
   "cell_type": "code",
   "execution_count": null,
   "id": "ea165bf3",
   "metadata": {},
   "outputs": [],
   "source": [
    "# Schreibe eine Funktion sum, die alle Listen Elemente, die eine bestimmte Boolschen Bedingung erfüllen, addiert\n",
    "# verwende dafür das Konstrukt: for element in liste\n",
    "\n",
    "def sum_condition(x, bool_function):\n",
    "    return \"todo\""
   ]
  },
  {
   "cell_type": "code",
   "execution_count": null,
   "id": "d44602bd",
   "metadata": {
    "scrolled": true
   },
   "outputs": [],
   "source": [
    "sum_condition([1,2,3,4,5,100, 1000], lambda x: x > 99) # der output soll 1100 sein"
   ]
  },
  {
   "cell_type": "code",
   "execution_count": null,
   "id": "746d61f1",
   "metadata": {},
   "outputs": [],
   "source": []
  },
  {
   "cell_type": "code",
   "execution_count": 477,
   "id": "49cfe66e",
   "metadata": {},
   "outputs": [],
   "source": [
    "# Schreibe eine Funktion, welche die ersten n Quadratzahlen ausgibt\n",
    "# quadrat(5) = [1, 4, 9, 16]\n",
    "\n",
    "\n",
    "def quadrat(n):\n",
    "    return [i**2 for i in range(1, n)]"
   ]
  },
  {
   "cell_type": "code",
   "execution_count": 479,
   "id": "3c1abffc",
   "metadata": {},
   "outputs": [
    {
     "data": {
      "text/plain": [
       "[1, 4, 9, 16, 25, 36, 49, 64, 81]"
      ]
     },
     "execution_count": 479,
     "metadata": {},
     "output_type": "execute_result"
    }
   ],
   "source": [
    "quadrat(10)"
   ]
  },
  {
   "cell_type": "code",
   "execution_count": 481,
   "id": "74fd54d2",
   "metadata": {},
   "outputs": [],
   "source": [
    "# Schreibe eine Funktion, welche die ersten n Fibonacci Zahlen ausgibt\n",
    "# fibonacci(7) = [1,1,2,3,5,8,13]\n",
    "\n",
    "\n",
    "def fibonacci(n):\n",
    "    liste = [1, 1]\n",
    "    \n",
    "    for i in range(n - 2):\n",
    "        liste.append(liste[-1] + liste[-2])\n",
    "    return liste"
   ]
  },
  {
   "cell_type": "code",
   "execution_count": 493,
   "id": "555afcce",
   "metadata": {
    "scrolled": true
   },
   "outputs": [],
   "source": [
    "liste = fibonacci(10001)"
   ]
  },
  {
   "cell_type": "code",
   "execution_count": 494,
   "id": "d8175458",
   "metadata": {},
   "outputs": [
    {
     "data": {
      "text/plain": [
       "1.6"
      ]
     },
     "execution_count": 494,
     "metadata": {},
     "output_type": "execute_result"
    }
   ],
   "source": [
    "liste[5] / liste[4]"
   ]
  },
  {
   "cell_type": "code",
   "execution_count": 495,
   "id": "f1308a99",
   "metadata": {},
   "outputs": [
    {
     "data": {
      "text/plain": [
       "1.6181818181818182"
      ]
     },
     "execution_count": 495,
     "metadata": {},
     "output_type": "execute_result"
    }
   ],
   "source": [
    "liste[10] / liste[9]"
   ]
  },
  {
   "cell_type": "code",
   "execution_count": 496,
   "id": "84a98d1b",
   "metadata": {},
   "outputs": [
    {
     "data": {
      "text/plain": [
       "1.618033988749895"
      ]
     },
     "execution_count": 496,
     "metadata": {},
     "output_type": "execute_result"
    }
   ],
   "source": [
    "liste[10000] / liste[9999]"
   ]
  },
  {
   "cell_type": "code",
   "execution_count": 498,
   "id": "31b381da",
   "metadata": {},
   "outputs": [
    {
     "data": {
      "text/plain": [
       "1.618033988749895"
      ]
     },
     "execution_count": 498,
     "metadata": {},
     "output_type": "execute_result"
    }
   ],
   "source": [
    "(1 + np.sqrt(5)) / 2"
   ]
  },
  {
   "cell_type": "code",
   "execution_count": null,
   "id": "e68ecbf9",
   "metadata": {},
   "outputs": [],
   "source": [
    "# Schreibe eine Funktion, welche die ersten n Primzahlen Zahlen ausgibt (schwieriger)\n",
    "# primzahlen(7) = [2,3,5,7,11]\n",
    "\n",
    "\n",
    "def primzahlen(n):\n",
    "    return \"todo\""
   ]
  },
  {
   "cell_type": "code",
   "execution_count": null,
   "id": "bc679d78",
   "metadata": {},
   "outputs": [],
   "source": []
  },
  {
   "cell_type": "code",
   "execution_count": null,
   "id": "bb7db72b",
   "metadata": {},
   "outputs": [],
   "source": []
  },
  {
   "cell_type": "markdown",
   "id": "3f9b9a46",
   "metadata": {},
   "source": [
    "# 5. Numpy"
   ]
  },
  {
   "cell_type": "code",
   "execution_count": null,
   "id": "414b9ea3",
   "metadata": {},
   "outputs": [],
   "source": [
    "# Schreibe eine Funktion, die jedes n-te Element zurückt\n",
    "\n",
    "def nth(l, n):\n",
    "    return \"todo\""
   ]
  },
  {
   "cell_type": "code",
   "execution_count": null,
   "id": "276623e7",
   "metadata": {
    "scrolled": true
   },
   "outputs": [],
   "source": [
    "nth([1,2,3,4,5,6], 3) == [1,4]"
   ]
  },
  {
   "cell_type": "code",
   "execution_count": null,
   "id": "a14e17e8",
   "metadata": {},
   "outputs": [],
   "source": []
  },
  {
   "cell_type": "code",
   "execution_count": null,
   "id": "26522279",
   "metadata": {},
   "outputs": [],
   "source": [
    "# Schreibe eine Funktion, die jedes n-te Element zurückt, aber in umgekehrter Reihenfolge\n",
    "\n",
    "def nth_reverse(l, n):\n",
    "    return \"todo\""
   ]
  },
  {
   "cell_type": "code",
   "execution_count": null,
   "id": "93a123f0",
   "metadata": {},
   "outputs": [],
   "source": [
    "nth_reverse([1,2,3,4,5,6], 3) == [4,1]"
   ]
  },
  {
   "cell_type": "code",
   "execution_count": null,
   "id": "de5c11f7",
   "metadata": {},
   "outputs": [],
   "source": []
  },
  {
   "cell_type": "code",
   "execution_count": null,
   "id": "f85be4c3",
   "metadata": {},
   "outputs": [],
   "source": [
    "# Schreibe eine Funktion die folgendes macht:\n",
    "# union(np.array([1,2,3]), np.array([4,5,6])) == np.array([1,2,3,4,5,6])\n",
    "\n",
    "def union(a, b):\n",
    "    return \"todo\""
   ]
  },
  {
   "cell_type": "code",
   "execution_count": null,
   "id": "3c98367b",
   "metadata": {},
   "outputs": [],
   "source": []
  },
  {
   "cell_type": "code",
   "execution_count": null,
   "id": "411442e0",
   "metadata": {},
   "outputs": [],
   "source": [
    "# Definiere eine Funktion, die folgendes macht:\n",
    "# separate(array([[0.37439962, 0.3130642 ],\n",
    "#                 [0.15061138, 0.13846712],\n",
    "#                 [0.99044808, 0.54289507],\n",
    "#                 [0.03670066, 0.21479558],\n",
    "#                 [0.83293058, 0.26468362]]), 3) \n",
    "# Output:\n",
    "# (array([[0.69015301, 0.1991521 ],\n",
    "#         [0.81496534, 0.60210135],\n",
    "#         [0.46524354, 0.78118968]]),\n",
    "#  array([[0.09578038, 0.29824532],\n",
    "#         [0.72648886, 0.49476367]]))\n",
    "\n",
    "\n",
    "def separate(arr, n):\n",
    "    return \"todo\"\n"
   ]
  },
  {
   "cell_type": "code",
   "execution_count": null,
   "id": "3b0abe8a",
   "metadata": {},
   "outputs": [],
   "source": [
    "separate(np.random.rand(5,2), 3)"
   ]
  },
  {
   "cell_type": "code",
   "execution_count": null,
   "id": "227cb99c",
   "metadata": {},
   "outputs": [],
   "source": [
    "# Definiere eine Funktion, die wie separate funktioniert, aber nun die andere Dimension separiert!\n",
    "def separate_2(arr, n):\n",
    "    return \"todo\"\n"
   ]
  },
  {
   "cell_type": "code",
   "execution_count": null,
   "id": "5b8903e4",
   "metadata": {},
   "outputs": [],
   "source": []
  },
  {
   "cell_type": "code",
   "execution_count": null,
   "id": "6c359b34",
   "metadata": {},
   "outputs": [],
   "source": []
  },
  {
   "cell_type": "code",
   "execution_count": null,
   "id": "5a15a3e0",
   "metadata": {},
   "outputs": [],
   "source": [
    "# Schreibe eine Funktion, die an einer Liste von Indices, \n",
    "# eine 1 schreibt. Ansonsten soll das Array nur aus 0en bestehen\n",
    "\n",
    "# fill((3,3), np.array([(1,2), (0,0)])) == np.array([[1,0,0],[0,0,1],[0,0,0]])\n",
    "\n",
    "def fill(sz, ibnds):\n",
    "    return \"todo\""
   ]
  },
  {
   "cell_type": "code",
   "execution_count": null,
   "id": "c1b0a24b",
   "metadata": {},
   "outputs": [],
   "source": []
  },
  {
   "cell_type": "code",
   "execution_count": null,
   "id": "4e563208",
   "metadata": {},
   "outputs": [],
   "source": []
  },
  {
   "cell_type": "markdown",
   "id": "5650c746",
   "metadata": {},
   "source": [
    "# 6. Plotten"
   ]
  },
  {
   "cell_type": "code",
   "execution_count": null,
   "id": "0b164260",
   "metadata": {},
   "outputs": [],
   "source": [
    "# plotte zwei Perioden von einer Sinus und Cosinus Kurve\n"
   ]
  },
  {
   "cell_type": "code",
   "execution_count": null,
   "id": "6fb0a592",
   "metadata": {},
   "outputs": [],
   "source": [
    "# Versuche 5 Datenpunkte mit Recyclingquote über Jahreszahl zu finden.\n",
    "# Erstelle einen Plot mit Achsenbeschriftung, Titel und Legende"
   ]
  },
  {
   "cell_type": "code",
   "execution_count": null,
   "id": "0a7adca7",
   "metadata": {},
   "outputs": [],
   "source": [
    "plt.plot([1,2,3],[1,2,9])"
   ]
  },
  {
   "cell_type": "code",
   "execution_count": null,
   "id": "5e400a60",
   "metadata": {},
   "outputs": [],
   "source": []
  }
 ],
 "metadata": {
  "kernelspec": {
   "display_name": "Python [conda env:naka] *",
   "language": "python",
   "name": "conda-env-naka-py"
  },
  "language_info": {
   "codemirror_mode": {
    "name": "ipython",
    "version": 3
   },
   "file_extension": ".py",
   "mimetype": "text/x-python",
   "name": "python",
   "nbconvert_exporter": "python",
   "pygments_lexer": "ipython3",
   "version": "3.8.17"
  }
 },
 "nbformat": 4,
 "nbformat_minor": 5
}
