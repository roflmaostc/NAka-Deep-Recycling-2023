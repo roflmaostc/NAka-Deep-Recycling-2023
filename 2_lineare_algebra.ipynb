{
 "cells": [
  {
   "cell_type": "code",
   "execution_count": null,
   "id": "5a41557f",
   "metadata": {},
   "outputs": [],
   "source": [
    "import numpy as np"
   ]
  },
  {
   "cell_type": "markdown",
   "id": "7cc4450d",
   "metadata": {},
   "source": [
    "# 1. Lineare Algebra\n",
    "\n",
    "Lineare Algebra ist ein fundamentaler Baustein von Machine Learning.\n",
    "Daher sind die Grundlagen und die Implementierung einiger Methoden interessant und wichtig.\n",
    "\n",
    "Eine Matrix $M_{ij}$ (Zeile $i$ und Spalte $j$) können wir in Python mit einem 2 dimensionalem NumPy array sehr leicht darstellen.\n",
    "Zum Beispiel folgende Telefonmatrix:"
   ]
  },
  {
   "cell_type": "code",
   "execution_count": null,
   "id": "01654f41",
   "metadata": {},
   "outputs": [],
   "source": [
    "M = np.array([[1,2,3],[4,5,6],[7,8,9]])\n",
    "M"
   ]
  },
  {
   "cell_type": "markdown",
   "id": "f0c98e66",
   "metadata": {},
   "source": [
    "Ein Vektor hingegenen, wird oft als 1 dimensionales NumPy array ausgedrückt:"
   ]
  },
  {
   "cell_type": "code",
   "execution_count": null,
   "id": "6075e31c",
   "metadata": {
    "scrolled": true
   },
   "outputs": [],
   "source": [
    "v = np.array([1, 2, 3])\n",
    "v"
   ]
  },
  {
   "cell_type": "markdown",
   "id": "57389912",
   "metadata": {},
   "source": [
    "Versuche nun das richtige Ergebnis per Hand auszurechnen. Du kannst es dann mit folgendem Befehl überprüfen:"
   ]
  },
  {
   "cell_type": "code",
   "execution_count": null,
   "id": "929528cc",
   "metadata": {
    "scrolled": false
   },
   "outputs": [],
   "source": [
    "# trage auf der rechten Seite das richtige Ergebnis ein\n",
    "np.all(np.dot(M, v) == np.array([0, 0, 0]))"
   ]
  },
  {
   "cell_type": "code",
   "execution_count": null,
   "id": "f99dcc2e",
   "metadata": {},
   "outputs": [],
   "source": [
    "# trage auf der rechten Seite das richtige Ergebnis ein\n",
    "np.all(np.dot(M, np.array([3,2,1])) == np.array([0, 0, 0]))"
   ]
  },
  {
   "cell_type": "markdown",
   "id": "38e4b185",
   "metadata": {},
   "source": [
    "Man kann von einer Matrix auch das transponierte Bilden: $M'$\n",
    "\n",
    "Was bedeutet das? Finde die Antwort mit `np.transpose`"
   ]
  },
  {
   "cell_type": "code",
   "execution_count": null,
   "id": "f69d784f",
   "metadata": {},
   "outputs": [],
   "source": [
    "np.transpose"
   ]
  },
  {
   "cell_type": "code",
   "execution_count": null,
   "id": "9792a6b4",
   "metadata": {
    "scrolled": true
   },
   "outputs": [],
   "source": [
    "# trage auf der rechten Seite das richtige Ergebnis ein\n",
    "np.all(np.dot(np.transpose(M), np.array([-1,1,-0.5])) == np.array([0, 0, 0]))"
   ]
  },
  {
   "cell_type": "markdown",
   "id": "158eba00",
   "metadata": {},
   "source": [
    "Man kann nicht nur eine Matrix mit einem Vektor multiplizieren, sondern auch eine Matrix mit einer Matrix.\n",
    "Berechne das Ergebnis der folgenden Operation:"
   ]
  },
  {
   "cell_type": "code",
   "execution_count": null,
   "id": "8ec4fa5d",
   "metadata": {
    "scrolled": true
   },
   "outputs": [],
   "source": [
    "np.all(np.dot(M, M) == np.array([[0,0,0], [0,0,0], [0,0,0]]))"
   ]
  },
  {
   "cell_type": "code",
   "execution_count": null,
   "id": "1600d0de",
   "metadata": {},
   "outputs": [],
   "source": [
    "np.all(np.dot(M, -M) == np.array([[0,0,0], [0,0,0], [0,0,0]]))"
   ]
  },
  {
   "cell_type": "code",
   "execution_count": null,
   "id": "87c52bf4",
   "metadata": {},
   "outputs": [],
   "source": [
    "np.all(np.dot(-M, -M) == np.array([[0,0,0], [0,0,0], [0,0,0]]))"
   ]
  },
  {
   "cell_type": "code",
   "execution_count": null,
   "id": "dbc6346e",
   "metadata": {},
   "outputs": [],
   "source": [
    "M1 = np.array([[-1, 1], [1, -1]])\n",
    "M2 = np.array([[2, -2], [3, -1]])\n",
    "\n",
    "np.all(np.dot(M1, M2) == np.array([[0,0,0], [0,0,0], [0,0,0]]))\n",
    "np.all(np.dot(M2, M1) == np.array([[0,0,0], [0,0,0], [0,0,0]]))"
   ]
  },
  {
   "cell_type": "markdown",
   "id": "deb60f73",
   "metadata": {},
   "source": [
    "# 2. Matrix-Vektor Multiplikation selbst gemacht\n",
    "\n",
    "Wir haben nun verstanden wie man Matrix-Vektor Multiplikationen in NumPy berechnet.\n",
    "Nun möchten wir einen einfachen (und langsamen) Algorithmus per Hand schreiben.\n",
    "\n",
    "Überprüfe das Ergebnis"
   ]
  },
  {
   "cell_type": "code",
   "execution_count": null,
   "id": "44009a15",
   "metadata": {},
   "outputs": [],
   "source": [
    "# TODO\n",
    "def mat_vec_mult(M, v):\n",
    "    \n",
    "            \n",
    "    return out"
   ]
  },
  {
   "cell_type": "code",
   "execution_count": null,
   "id": "80de04db",
   "metadata": {},
   "outputs": [],
   "source": [
    "mat_vec_mult(M, v)"
   ]
  },
  {
   "cell_type": "code",
   "execution_count": null,
   "id": "2954105a",
   "metadata": {},
   "outputs": [],
   "source": [
    "np.matmul(M, v)"
   ]
  },
  {
   "cell_type": "markdown",
   "id": "3ecc23fa",
   "metadata": {},
   "source": [
    "Teste nun mit 10 zufälligen Matrizen und Vektoren, dass der Algorithmus stimmt.\n",
    "Benutze dafür `np.random.rand` und `np.equal` und eine for schleife "
   ]
  },
  {
   "cell_type": "code",
   "execution_count": null,
   "id": "198067d7",
   "metadata": {},
   "outputs": [],
   "source": [
    "\n",
    "    "
   ]
  },
  {
   "cell_type": "markdown",
   "id": "b66bef5e",
   "metadata": {},
   "source": [
    "Anscheinend sind die Algorithmen nicht ganz gleich?\n",
    "Woran liegt das?\n",
    "\n",
    "Benutze statt `np.equal` `np.isclose`. Lies gerne die Dokumentation was diese Funktion macht."
   ]
  },
  {
   "cell_type": "code",
   "execution_count": null,
   "id": "df4b4a74",
   "metadata": {},
   "outputs": [],
   "source": [
    "?np.equal"
   ]
  },
  {
   "cell_type": "code",
   "execution_count": null,
   "id": "0ef5ef30",
   "metadata": {},
   "outputs": [],
   "source": []
  },
  {
   "cell_type": "markdown",
   "id": "53426c32",
   "metadata": {},
   "source": [
    "# 3. Matrix-Matrix Multiplikation\n",
    "\n",
    "Schreibe einen Algorithmus, der Matrizen mit Matrizen multipliziert."
   ]
  },
  {
   "cell_type": "code",
   "execution_count": null,
   "id": "21f5d337",
   "metadata": {},
   "outputs": [],
   "source": [
    "def mat_mat_mult(A, B):\n",
    "    \n",
    "    return 0"
   ]
  },
  {
   "cell_type": "markdown",
   "id": "590e425f",
   "metadata": {},
   "source": [
    "Definiere zwei passende Matrizen `A` und `B`."
   ]
  },
  {
   "cell_type": "code",
   "execution_count": null,
   "id": "d6cc9e2e",
   "metadata": {},
   "outputs": [],
   "source": []
  },
  {
   "cell_type": "code",
   "execution_count": null,
   "id": "a2b57b84",
   "metadata": {},
   "outputs": [],
   "source": []
  },
  {
   "cell_type": "code",
   "execution_count": null,
   "id": "061d802a",
   "metadata": {
    "scrolled": true
   },
   "outputs": [],
   "source": [
    "mat_mat_mult(A, B)"
   ]
  },
  {
   "cell_type": "code",
   "execution_count": null,
   "id": "892a1e35",
   "metadata": {},
   "outputs": [],
   "source": [
    "np.matmul(A, B)"
   ]
  },
  {
   "cell_type": "code",
   "execution_count": null,
   "id": "4477fb52",
   "metadata": {},
   "outputs": [],
   "source": [
    "%timeit mat_mat_mult(A, B)"
   ]
  },
  {
   "cell_type": "code",
   "execution_count": null,
   "id": "178713d9",
   "metadata": {},
   "outputs": [],
   "source": [
    "%timeit np.matmul(A, B)"
   ]
  },
  {
   "cell_type": "markdown",
   "id": "55a563ee",
   "metadata": {},
   "source": [
    "Verbesserung von Linearen Algebra Operationen hat eine sehr lange Geschichte.\n",
    "\n",
    "Zum Vergleich sieht man, dass unsere naive Implementierung sehr langsam ist. \n",
    "\n",
    "Das liegt einerseits an Python selbst, da NumPy effektiv Fortran Routinen aufruft, die deutlich schneller und effizienter sind.\n",
    "Python ist eine sehr langsame Sprache, da sie interpretiert und nicht kompiliert ist.\n",
    "\n",
    "Andererseits optimiert Fortran sehr stark für verschiedene CPU Architekturen und versucht Zugriffe auf Arbeitsspeicher und z.B. Cache Misses zu minimieren."
   ]
  },
  {
   "cell_type": "code",
   "execution_count": null,
   "id": "fdd17357",
   "metadata": {},
   "outputs": [],
   "source": []
  },
  {
   "cell_type": "code",
   "execution_count": null,
   "id": "9fe51ed1",
   "metadata": {},
   "outputs": [],
   "source": []
  },
  {
   "cell_type": "code",
   "execution_count": null,
   "id": "c62aca49",
   "metadata": {},
   "outputs": [],
   "source": []
  },
  {
   "cell_type": "code",
   "execution_count": null,
   "id": "9365bdf9",
   "metadata": {},
   "outputs": [],
   "source": []
  },
  {
   "cell_type": "markdown",
   "id": "49d8e54a",
   "metadata": {},
   "source": [
    "# 4. Mehr Matrixspaß"
   ]
  },
  {
   "cell_type": "code",
   "execution_count": null,
   "id": "96bcd6d3",
   "metadata": {},
   "outputs": [],
   "source": [
    "L1 = np.array([[0, -1],[1, 0]])\n",
    "\n",
    "L2 = np.array([[0, 1],[-1, 0]])"
   ]
  },
  {
   "cell_type": "code",
   "execution_count": null,
   "id": "7037cced",
   "metadata": {
    "scrolled": true
   },
   "outputs": [],
   "source": [
    "# korrigiere die rechte Seite\n",
    "np.all(np.dot(L1, L2) == np.array([[0,0], [0,0]]))"
   ]
  },
  {
   "cell_type": "code",
   "execution_count": null,
   "id": "1a813ada",
   "metadata": {
    "scrolled": true
   },
   "outputs": [],
   "source": [
    "# korrigiere die rechte Seite\n",
    "np.all(np.dot(L1, np.transpose(L1)) == np.array([[0,0],[0,0]]))"
   ]
  },
  {
   "cell_type": "code",
   "execution_count": null,
   "id": "d5a7c08a",
   "metadata": {},
   "outputs": [],
   "source": [
    "# korrigiere die rechte Seite\n",
    "np.all(np.dot(L2, np.transpose(L2)) == np.array([[0,0],[0,0]]))"
   ]
  },
  {
   "cell_type": "markdown",
   "id": "fcf550ad",
   "metadata": {},
   "source": [
    "# 5. Rotationsmatrizen"
   ]
  },
  {
   "cell_type": "markdown",
   "id": "649a0ed3",
   "metadata": {},
   "source": [
    "Mache dich mit dem Konzept von Rotationsmatrizen bekannt: https://de.wikipedia.org/wiki/Drehmatrix\n",
    "\n",
    "Du musst natürlich nicht alles lesen, sondern nur verstehen wie man diese berechnet.\n",
    "\n",
    "Definiere nun eine Funktion, mit der man Rotationsmatrizen für beliebige Winkel berechnet.\n",
    "Multipliziere diese zu verschiedenen Vektoren und visualisiere diese."
   ]
  },
  {
   "cell_type": "code",
   "execution_count": null,
   "id": "5720d6e2",
   "metadata": {},
   "outputs": [],
   "source": [
    "import matplotlib.pyplot as plt"
   ]
  },
  {
   "cell_type": "code",
   "execution_count": null,
   "id": "c5879c89",
   "metadata": {},
   "outputs": [],
   "source": [
    "def rotations_matrix(angle):\n",
    "    return 0"
   ]
  },
  {
   "cell_type": "code",
   "execution_count": null,
   "id": "aed87e19",
   "metadata": {},
   "outputs": [],
   "source": [
    "rotations_matrix(0)"
   ]
  },
  {
   "cell_type": "code",
   "execution_count": null,
   "id": "eee02fc5",
   "metadata": {
    "scrolled": true
   },
   "outputs": [],
   "source": [
    "rotations_matrix(np.pi/2)"
   ]
  },
  {
   "cell_type": "code",
   "execution_count": null,
   "id": "9e17cae4",
   "metadata": {},
   "outputs": [],
   "source": [
    "rotations_matrix(3*np.pi/2)"
   ]
  },
  {
   "cell_type": "code",
   "execution_count": null,
   "id": "c6037a73",
   "metadata": {},
   "outputs": [],
   "source": [
    "rotations_matrix(np.pi)"
   ]
  },
  {
   "cell_type": "code",
   "execution_count": null,
   "id": "f4a29eac",
   "metadata": {},
   "outputs": [],
   "source": [
    "rotations_matrix(np.pi * 2)"
   ]
  },
  {
   "cell_type": "markdown",
   "id": "77af7cf7",
   "metadata": {},
   "source": [
    "Zeige nun folgende Identitäten zuerst progammatisch, danach analytisch!\n",
    "\n",
    "Wieso gilt das? Was ist die qualitative Begründung? Wie ist die mathematische?\n",
    "\n",
    "`np.dot(rotations_matrix(alpha), rotations_matrix(beta)) = rotations_matrix(alpha + beta)`"
   ]
  },
  {
   "cell_type": "markdown",
   "id": "17040ae3",
   "metadata": {},
   "source": [
    "Versuche nun mit `matplotlib` und den Funktionen `plt.axes` und `ax.arrow` Vektoren zu plotten.\n",
    "Damit kannst du das Theorem von oben ebenfalls visualisieren."
   ]
  },
  {
   "cell_type": "code",
   "execution_count": null,
   "id": "9189bf7d",
   "metadata": {},
   "outputs": [],
   "source": [
    "v1 = np.array([1, 0])"
   ]
  },
  {
   "cell_type": "code",
   "execution_count": null,
   "id": "0c826b22",
   "metadata": {},
   "outputs": [],
   "source": [
    "def plot_vectors(vectors):\n",
    "    return\n",
    "    "
   ]
  },
  {
   "cell_type": "code",
   "execution_count": null,
   "id": "b8f34105",
   "metadata": {},
   "outputs": [],
   "source": [
    "plot_vectors([v1, np.dot(rotations_matrix(np.pi/2), v1)])"
   ]
  },
  {
   "cell_type": "code",
   "execution_count": null,
   "id": "759731b6",
   "metadata": {},
   "outputs": [],
   "source": []
  }
 ],
 "metadata": {
  "kernelspec": {
   "display_name": "Python (naka)",
   "language": "python",
   "name": "pytorch_python"
  },
  "language_info": {
   "codemirror_mode": {
    "name": "ipython",
    "version": 3
   },
   "file_extension": ".py",
   "mimetype": "text/x-python",
   "name": "python",
   "nbconvert_exporter": "python",
   "pygments_lexer": "ipython3",
   "version": "3.10.5"
  }
 },
 "nbformat": 4,
 "nbformat_minor": 5
}
