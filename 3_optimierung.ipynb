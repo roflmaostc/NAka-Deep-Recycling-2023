{
 "cells": [
  {
   "cell_type": "code",
   "execution_count": null,
   "id": "d8e6407d",
   "metadata": {},
   "outputs": [],
   "source": [
    "import numpy as np\n",
    "import matplotlib.pyplot as plt"
   ]
  },
  {
   "cell_type": "markdown",
   "id": "a0943872",
   "metadata": {},
   "source": [
    "Wir haben in den Referaten bereits einiges über Optimierung gehört.\n",
    "\n",
    "Nun ist es Zeit für praktische Übungen.\n",
    "Letztendlich ist Machine Learning ein großes Optimierungsproblem wo man z.B. versucht die Parameters des Netzwerks an Trainingsdaten so anzupassen, dass diese einen möglichst optimalen Output erzeugen.\n"
   ]
  },
  {
   "cell_type": "markdown",
   "id": "00b286c8",
   "metadata": {},
   "source": [
    "# 1. Gradient Descent\n",
    "\n",
    "Gradient Descent wird auch der Weg des steilsten Abstieges genannt.\n",
    "Ein (lokales) Minimum lässt sich damit finden, indem man ähnlich wie bei einer Wanderung einfach steil bergab geht.\n",
    "Die Richtung des Abstieges lässt sich mit der/dem Ableitung/Gradient bestimmen.\n",
    "\n",
    "\n",
    "Gradient Descent lässt sich formal schreiben für eine Funktion $f:\\mathbb{R}\\mapsto \\mathbb{R}$:\n",
    "\n",
    "$$ x_{n+1} = x_n - \\gamma \\cdot \\frac{\\mathrm{d}f}{\\mathrm{d}x}\\bigg\\vert_{x_n}$$\n",
    "\n",
    "In Falle von mehrerer Variablen (z.B. als Vektor gespeichert), gilt für $h:\\mathbb{R}^N\\mapsto \\mathbb{R}^N$\n",
    "\n",
    "$$ \\vec x_{n+1} = \\vec x_n - \\gamma \\cdot (\\nabla h)(\\vec x_n)$$\n",
    "\n",
    "In beiden Fällen ist $\\gamma$ die Schrittweite."
   ]
  },
  {
   "cell_type": "code",
   "execution_count": null,
   "id": "971573ff",
   "metadata": {},
   "outputs": [],
   "source": [
    "# TODO\n",
    "def gradient_descent(df, x0, N, step_size=1e-2):\n",
    "    \"\"\"Returns the optimum value for x\n",
    "\n",
    "    Arguments:\n",
    "    df: A function which evaluates the derivative/gradient of f\n",
    "    x0: Start value\n",
    "    N: number of iterations\n",
    "    step_size: Step size in each iteration\n",
    "    \"\"\"\n",
    "   \n",
    "            \n",
    "    return x0"
   ]
  },
  {
   "cell_type": "markdown",
   "id": "64ed9e10",
   "metadata": {},
   "source": [
    "## Beispiel 1.1 Gradient Descent\n",
    "Implementiere nun eine Funktion und deren Ableitung. Überprüfe, ob der gradient descent Mechanismus funktioniert.\n",
    "\n",
    "Welche Funktion eignet sich?"
   ]
  },
  {
   "cell_type": "code",
   "execution_count": null,
   "id": "0389875f",
   "metadata": {},
   "outputs": [],
   "source": [
    "# TODO\n",
    "def f(x):\n",
    "    return 0\n",
    "    \n",
    "# TODO, Ableitung von f\n",
    "def df(x):\n",
    "    return 0"
   ]
  },
  {
   "cell_type": "code",
   "execution_count": null,
   "id": "8c6852db",
   "metadata": {},
   "outputs": [],
   "source": [
    "gradient_descent(df, 0, 1000)"
   ]
  },
  {
   "cell_type": "code",
   "execution_count": null,
   "id": "7612cab0",
   "metadata": {},
   "outputs": [],
   "source": []
  },
  {
   "cell_type": "code",
   "execution_count": null,
   "id": "b8839117",
   "metadata": {},
   "outputs": [],
   "source": []
  },
  {
   "cell_type": "markdown",
   "id": "bf1956fe",
   "metadata": {},
   "source": [
    "Was passiert, wenn die `step_size` zu groß ist? Spiele ein wenig damit rum, und auch der Anzahl der Iterationen"
   ]
  },
  {
   "cell_type": "code",
   "execution_count": null,
   "id": "4dae5e7c",
   "metadata": {},
   "outputs": [],
   "source": [
    "gradient_descent(df, 0, 1000, step_size=1)"
   ]
  },
  {
   "cell_type": "code",
   "execution_count": null,
   "id": "03eb009a",
   "metadata": {},
   "outputs": [],
   "source": []
  },
  {
   "cell_type": "code",
   "execution_count": null,
   "id": "5bd718cc",
   "metadata": {},
   "outputs": [],
   "source": []
  },
  {
   "cell_type": "code",
   "execution_count": null,
   "id": "bf0646a2",
   "metadata": {},
   "outputs": [],
   "source": [
    "def f_2(x):\n",
    "    return (x-5)**2 + (x + 3) ** 3 + (x - 4)**4\n",
    "    \n",
    "# TODO\n",
    "def df_2(x):\n",
    "    # TODO\n",
    "    return 0"
   ]
  },
  {
   "cell_type": "code",
   "execution_count": null,
   "id": "cd35e3ad",
   "metadata": {},
   "outputs": [],
   "source": [
    "gradient_descent(df_2, 0, 1000)"
   ]
  },
  {
   "cell_type": "code",
   "execution_count": null,
   "id": "54bee89d",
   "metadata": {},
   "outputs": [],
   "source": []
  },
  {
   "cell_type": "code",
   "execution_count": null,
   "id": "1fb1c920",
   "metadata": {},
   "outputs": [],
   "source": []
  },
  {
   "cell_type": "markdown",
   "id": "3879d182",
   "metadata": {},
   "source": [
    "## Beispiel 1.2 Gradient Descent\n",
    "\n",
    "Implementiere eine Funktion mit mehreren Variablen (z.B. $(x - 21.3) ^2 + (y + 13.1)^4$).\n",
    "\n",
    "Geht die Implementierung von oben nun auch für den mehrdimensionalen Fall?"
   ]
  },
  {
   "cell_type": "code",
   "execution_count": null,
   "id": "ba00979a",
   "metadata": {},
   "outputs": [],
   "source": [
    "# TODO, Funktion \n",
    "def f_3(x):\n",
    "    return 0\n",
    "    \n",
    "# TODO, Ableitung der Funktion\n",
    "def df_3(x):\n",
    "    return 0"
   ]
  },
  {
   "cell_type": "code",
   "execution_count": null,
   "id": "63299e9f",
   "metadata": {},
   "outputs": [],
   "source": [
    "gradient_descent(df_3, np.array([0.0, 0.0]), 1000)"
   ]
  },
  {
   "cell_type": "code",
   "execution_count": null,
   "id": "22dfd269",
   "metadata": {},
   "outputs": [],
   "source": []
  },
  {
   "cell_type": "markdown",
   "id": "dc4a1ba7",
   "metadata": {},
   "source": [
    "## Beispiel 1.3\n",
    "\n",
    "Implementiere eine gradient descent Funktion, welche sowohl den Funktionswert, als auch $x_n$ in jeder Iteration speichert.\n",
    "Nutze dafür ein array oder eine Liste."
   ]
  },
  {
   "cell_type": "code",
   "execution_count": null,
   "id": "e22b9c45",
   "metadata": {},
   "outputs": [],
   "source": [
    "def gradient_descent_track(f, df, x0, N, step_size=1e-2):\n",
    "    \n",
    "    return x0, log, log_f"
   ]
  },
  {
   "cell_type": "code",
   "execution_count": null,
   "id": "40104045",
   "metadata": {
    "scrolled": true
   },
   "outputs": [],
   "source": [
    "x0, log, log_f = gradient_descent_track(f_3, df_3, np.array([0.0, 0.0]), 300)"
   ]
  },
  {
   "cell_type": "code",
   "execution_count": null,
   "id": "5eea1249",
   "metadata": {},
   "outputs": [],
   "source": []
  },
  {
   "cell_type": "code",
   "execution_count": null,
   "id": "ecb2614b",
   "metadata": {},
   "outputs": [],
   "source": []
  },
  {
   "cell_type": "markdown",
   "id": "dcf79fdf",
   "metadata": {},
   "source": [
    "## Beispiel 1.4\n",
    "\n",
    "Plotte den Funktionswert von `f_3` über die Anzahl der Iterationen.\n",
    "Plotte in ein neues Fenster die Werte der Variablen über die Anzahl der Iterationen."
   ]
  },
  {
   "cell_type": "code",
   "execution_count": null,
   "id": "773eedfa",
   "metadata": {
    "scrolled": true
   },
   "outputs": [],
   "source": []
  },
  {
   "cell_type": "code",
   "execution_count": null,
   "id": "f9db4793",
   "metadata": {},
   "outputs": [],
   "source": []
  },
  {
   "cell_type": "code",
   "execution_count": null,
   "id": "e69b47ae",
   "metadata": {},
   "outputs": [],
   "source": []
  },
  {
   "cell_type": "code",
   "execution_count": null,
   "id": "f5291d82",
   "metadata": {},
   "outputs": [],
   "source": []
  },
  {
   "cell_type": "code",
   "execution_count": null,
   "id": "99c6102c",
   "metadata": {
    "scrolled": false
   },
   "outputs": [],
   "source": []
  },
  {
   "cell_type": "markdown",
   "id": "6d0c001a",
   "metadata": {},
   "source": [
    "# 2. Automatic Differentation\n",
    "\n",
    "Bisher war es recht mühsam, da wir die Ableitung per Hand ausgerechnet haben.\n",
    "Zum Glück müssen wir das bei unseren Neuronalen Netzen nicht machen, da PyTorch Mechanismen hierfür eingebaut hat (Automatic Differentation).\n",
    "\n",
    "Wir wollen nun komplexere Funktionen optimieren, ohne den Gradient per Hand zu berechnen."
   ]
  },
  {
   "cell_type": "code",
   "execution_count": null,
   "id": "033468bb",
   "metadata": {},
   "outputs": [],
   "source": [
    "import torch"
   ]
  },
  {
   "cell_type": "code",
   "execution_count": null,
   "id": "cea17c15",
   "metadata": {},
   "outputs": [],
   "source": [
    "# Gegeben ist folgende Funktion g\n",
    "def g_torch(x):\n",
    "    return (x[0]-1)**2  + (torch.sqrt(x[1]) - torch.log(x[2]))**2 + x[1]**2 + (torch.log(x[1]) - 2)**2"
   ]
  },
  {
   "cell_type": "code",
   "execution_count": null,
   "id": "8264a732",
   "metadata": {},
   "outputs": [],
   "source": []
  },
  {
   "cell_type": "code",
   "execution_count": null,
   "id": "b19fcbed",
   "metadata": {},
   "outputs": [],
   "source": [
    "def gradient_descent_track_ad(f, x0, N, step_size=1e-2):\n",
    "    # TODO\n",
    "    # hier fehlen ein paar Variablen\n",
    "    \n",
    "    \n",
    "    for i in range(N):\n",
    "        \n",
    "        l = 0 # TODO, was könnte hier wohl stehen?\n",
    "        \n",
    "        # damit wird der gradient berechnet\n",
    "        l.backward()\n",
    "        df = x.grad\n",
    "        # spezielles construct\n",
    "        with torch.no_grad():\n",
    "            # step update\n",
    "            x = 0 # TODO\n",
    "            \n",
    "            # spezielles construct \n",
    "            x = torch.tensor(x, requires_grad=True)\n",
    "            \n",
    "            # speichere hier noch die variablen\n",
    "            # TODO\n",
    "            \n",
    "    return x0, log, log_f"
   ]
  },
  {
   "cell_type": "code",
   "execution_count": null,
   "id": "b7b3189b",
   "metadata": {},
   "outputs": [],
   "source": []
  },
  {
   "cell_type": "code",
   "execution_count": null,
   "id": "bae8fc09",
   "metadata": {},
   "outputs": [],
   "source": [
    "t_x, t_log, t_log_f = gradient_descent_track_ad(f_2, torch.tensor([1.0, 1.0], requires_grad=True), \n",
    "                                                100, \n",
    "                                                step_size=0.1)"
   ]
  },
  {
   "cell_type": "code",
   "execution_count": null,
   "id": "9626aad6",
   "metadata": {
    "scrolled": true
   },
   "outputs": [],
   "source": [
    "plt.plot(t_log)"
   ]
  },
  {
   "cell_type": "markdown",
   "id": "10fab8ea",
   "metadata": {},
   "source": [
    "# 3. Optimierer von PyTorch\n",
    "\n",
    "PyTorch stellt eine ganze Reihe von verschiedenen Optimierern zur Verfügung.\n",
    "`ADAM` wird relativ häufig benutzt.\n",
    "\n",
    "Teste nun verschiedene Arten von Optimierern. Versuche auch eine graphische Darstellung zu machen, in denen du verschiedene Optimierer miteinander hinsichtlich Konvergenz und Startbedingungen vergleichst."
   ]
  },
  {
   "cell_type": "code",
   "execution_count": null,
   "id": "f9377d5d",
   "metadata": {},
   "outputs": [],
   "source": [
    "# orientiere dich an der vorherigen Funktion gradient_descent_track_ad\n",
    "# Im Prinzip müssen nur wenige Teile geändert werden\n",
    "def ADAM_optimize(f, x0, N, step_size=1e-2):\n",
    "    # TODO\n",
    "    \n",
    "    optimizer = torch.optim.Adam([x], lr=0.1) # initialisiere hier den optimizer\n",
    "    for i in range(N):\n",
    "        optimizer.zero_grad()\n",
    "        l = f(x)\n",
    "        l.backward()\n",
    "        optimizer.step()\n",
    "        \n",
    "        # speichere hier noch die log values, dies muss wieder innerhalb des `with torch.no_grad():` passieren\n",
    " \n",
    "      \n",
    "            \n",
    "    return x, log, log_f"
   ]
  },
  {
   "cell_type": "code",
   "execution_count": null,
   "id": "b28cdb8d",
   "metadata": {},
   "outputs": [],
   "source": []
  },
  {
   "cell_type": "code",
   "execution_count": null,
   "id": "2e120e1a",
   "metadata": {},
   "outputs": [],
   "source": [
    "# definiere die Funktion nun so, dass ein bestimmter optimierer über das keyword argument\n",
    "# optimizer übergeben werden kann\n",
    "def optimize(f, x0, N, optimizer=torch.optim.SGD, lr=1e-2):\n",
    "    # ähnlich\n",
    "            \n",
    "    return x, log, log_f"
   ]
  },
  {
   "cell_type": "code",
   "execution_count": null,
   "id": "d68d7643",
   "metadata": {},
   "outputs": [],
   "source": []
  },
  {
   "cell_type": "code",
   "execution_count": null,
   "id": "64927626",
   "metadata": {},
   "outputs": [],
   "source": [
    "t_x, t_log, t_log_f = ADAM_optimize(f_2, torch.tensor([0.0, 0.0], requires_grad=True), 100)"
   ]
  },
  {
   "cell_type": "code",
   "execution_count": null,
   "id": "55f18c30",
   "metadata": {},
   "outputs": [],
   "source": [
    "t_x2, t_log2, t_log_f2 = optimize(f_2, torch.tensor([0.0, 0.0], requires_grad=True), 1000,\\\n",
    "                                        optimizer=torch.optim.Adadelta, lr=1)"
   ]
  },
  {
   "cell_type": "code",
   "execution_count": null,
   "id": "f249758a",
   "metadata": {
    "scrolled": true
   },
   "outputs": [],
   "source": [
    "plt.plot(t_log)"
   ]
  },
  {
   "cell_type": "code",
   "execution_count": null,
   "id": "d16fc06b",
   "metadata": {},
   "outputs": [],
   "source": [
    "plt.plot(t_log2)"
   ]
  },
  {
   "cell_type": "code",
   "execution_count": null,
   "id": "7fb245a8",
   "metadata": {},
   "outputs": [],
   "source": []
  },
  {
   "cell_type": "markdown",
   "id": "2491e921",
   "metadata": {},
   "source": [
    "# 4. Rosenbrock Funktion\n",
    "\n",
    "Mache auch die gleichen Vergleiche auch mit der Rosenbrock Funktion."
   ]
  },
  {
   "cell_type": "code",
   "execution_count": null,
   "id": "ad8af282",
   "metadata": {},
   "outputs": [],
   "source": [
    "def rosenbrock(x):\n",
    "    return (1.0 - x[0])**2 + 100.0 * (x[1] - x[0]**2)**2"
   ]
  },
  {
   "cell_type": "code",
   "execution_count": null,
   "id": "7ea71002",
   "metadata": {},
   "outputs": [],
   "source": [
    "t_x_2, t_log_2, t_log_f_2 = torch_optimize(rosenbrock, torch.tensor([0.0, 0.0], requires_grad=True), 500,  lr=0.001)"
   ]
  },
  {
   "cell_type": "code",
   "execution_count": null,
   "id": "139598b7",
   "metadata": {
    "scrolled": true
   },
   "outputs": [],
   "source": [
    "plt.plot(t_log_2)"
   ]
  },
  {
   "cell_type": "code",
   "execution_count": null,
   "id": "1934a8a9",
   "metadata": {},
   "outputs": [],
   "source": []
  },
  {
   "cell_type": "markdown",
   "id": "8fbb6642",
   "metadata": {},
   "source": [
    "# 5. Weitere Funktionen\n",
    "\n",
    "Auf Wikipedia findet man eine Reihe ganz verschiedener Funktionen.\n",
    "\n",
    "Versuche ein paar davon zu optimieren!\n",
    "\n",
    "https://en.wikipedia.org/wiki/Test_functions_for_optimization"
   ]
  },
  {
   "cell_type": "code",
   "execution_count": null,
   "id": "3633c0b8",
   "metadata": {},
   "outputs": [],
   "source": []
  },
  {
   "cell_type": "code",
   "execution_count": null,
   "id": "de3a7ec4",
   "metadata": {},
   "outputs": [],
   "source": [
    "t_x, t_log, t_log_f = torch_optimize(      , torch.tensor([0.2, 0.2], requires_grad=True), 5000, lr =0.01,\\\n",
    "                                     optimizer=torch.optim.Adadelta)"
   ]
  },
  {
   "cell_type": "code",
   "execution_count": null,
   "id": "61db983b",
   "metadata": {},
   "outputs": [],
   "source": [
    "plt.plot(t_log)"
   ]
  },
  {
   "cell_type": "code",
   "execution_count": null,
   "id": "52e0a9a1",
   "metadata": {},
   "outputs": [],
   "source": []
  },
  {
   "cell_type": "code",
   "execution_count": null,
   "id": "e18887e5",
   "metadata": {},
   "outputs": [],
   "source": []
  },
  {
   "cell_type": "code",
   "execution_count": null,
   "id": "42ee6b00",
   "metadata": {},
   "outputs": [],
   "source": []
  },
  {
   "cell_type": "code",
   "execution_count": null,
   "id": "ea140852",
   "metadata": {},
   "outputs": [],
   "source": []
  },
  {
   "cell_type": "code",
   "execution_count": null,
   "id": "dba18a24",
   "metadata": {},
   "outputs": [],
   "source": []
  },
  {
   "cell_type": "code",
   "execution_count": null,
   "id": "63f098b6",
   "metadata": {},
   "outputs": [],
   "source": []
  }
 ],
 "metadata": {
  "kernelspec": {
   "display_name": "Python 3 (ipykernel)",
   "language": "python",
   "name": "python3"
  },
  "language_info": {
   "codemirror_mode": {
    "name": "ipython",
    "version": 3
   },
   "file_extension": ".py",
   "mimetype": "text/x-python",
   "name": "python",
   "nbconvert_exporter": "python",
   "pygments_lexer": "ipython3",
   "version": "3.11.3"
  }
 },
 "nbformat": 4,
 "nbformat_minor": 5
}
