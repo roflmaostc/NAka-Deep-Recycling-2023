{
 "cells": [
  {
   "cell_type": "markdown",
   "id": "cd2137a7",
   "metadata": {},
   "source": [
    "# Einleitung zu Python"
   ]
  },
  {
   "cell_type": "markdown",
   "id": "d7dc89dc",
   "metadata": {},
   "source": [
    "## Grundfunktionen"
   ]
  },
  {
   "cell_type": "markdown",
   "id": "8dd67561",
   "metadata": {},
   "source": [
    "Alle Funktionen der Programmiersprache können entweder in der Eingabeaufforderung oder direkt in Jupyter Notebooks ausprobiert werden.\n",
    "Jupyter Notebooks sind ein angenehmes Werkzeug, um Code und Erklärungen direkt zu mischen.\n",
    "Im Kurs werden wir hauptsächlich mit Jupyter Notebooks arbeiten.\n",
    "\n",
    "Falls du schon Vorerfahrung mit Python hast und lieber mit Skripten arbeiten möchtest, kannst du das natürlich auch machen.\n",
    "Wir würden dich trotzdem bitten dir die Notebooks einmal anzusehen, um sicherzustellen, dass wir alle auf dem gleichen Stand beginnen können.\n",
    "\n",
    "In Jupyter Notebooks kannst du mit dem \"+\" Symbol neue Zellen erzeugen. Die Zellen können entweder Text (\"Markdown\" genannt) oder Code sein. Den Unterschied siehst du im Drop Down Menu über dem Notebook.\n",
    "\n",
    "Wenn du eine Zelle ausführen willst, kannst du entweder auf das \"Play\" Symbol klicken oder Shift+Return auf der Tastatur drücken.\n",
    "\n",
    "Viel Spaß beim Ausprobieren von Python. \n",
    "\n",
    "*Du kannst nichts kaputt machen in diesem Notebook. Wenn etwas schief geht, dann kannst du es einfach neu herunterladen.*"
   ]
  },
  {
   "cell_type": "markdown",
   "id": "3900c3d4",
   "metadata": {},
   "source": [
    "### Variablenzuweisung\n",
    "Einer Variablen `x` kann auf folgende Art ein Wert zugewiesen werden"
   ]
  },
  {
   "cell_type": "code",
   "execution_count": null,
   "id": "66513dae",
   "metadata": {},
   "outputs": [],
   "source": [
    "x = 5"
   ]
  },
  {
   "cell_type": "markdown",
   "id": "f92c6809",
   "metadata": {},
   "source": [
    "Der Name der Variablen steht dabei auf der linken Seite des Gleichheitszeichens und der Wert auf der rechten.\n",
    "\n",
    "Es sind keine vorherigen Angaben des Typs (Ganzzahl $1$ oder Fließkommazahl $7.3$) notewendig.\n",
    "`x` ist hier eine ganze Zahl. Der zugehörige Typ heißt `int` vom englischen Wort \"integer\".\n",
    "\n",
    "Eine weitere Variablenzuweisung ist"
   ]
  },
  {
   "cell_type": "code",
   "execution_count": null,
   "id": "599712cf",
   "metadata": {},
   "outputs": [],
   "source": [
    "y = 5.2"
   ]
  },
  {
   "cell_type": "markdown",
   "id": "ad14cb45",
   "metadata": {},
   "source": [
    "Hierbei ist $y$ eine reelle Zahl vom Typ \"float\" (Fließkommazahl).\n",
    "\n",
    "Mittels"
   ]
  },
  {
   "cell_type": "code",
   "execution_count": null,
   "id": "8855973c",
   "metadata": {},
   "outputs": [],
   "source": [
    "z = x + y"
   ]
  },
  {
   "cell_type": "markdown",
   "id": "dd37ca3a",
   "metadata": {},
   "source": [
    "wird `z` die Summe von `x` und `y` zugewiesen. Dabei wird `z` automatisch eine reelle Zahl. \n",
    "Die Summe zweier ganzer Zahlen (zweier Integer) hingegegn ist wieder eine ganze Zahl.\n",
    "Probiere gerne ein paar Rechenoperationen wie Subtraktion, Multiplikation, Division und Potenzierung in der folgenden Zelle aus mit \n",
    "\n",
    "`-`, `*`, `/` und `**`\n",
    "\n",
    "Die Ergebnisse der Rechnungen kannst du dir mit dem `print` ausgeben."
   ]
  },
  {
   "cell_type": "code",
   "execution_count": null,
   "id": "586bf8e7",
   "metadata": {},
   "outputs": [],
   "source": [
    "print(3 + x)\n",
    "# Schreibe gerne mehr Befehle unter diese Zeile und probiere die Rechenarten aus"
   ]
  },
  {
   "cell_type": "markdown",
   "id": "df61edad",
   "metadata": {},
   "source": [
    "Den Typ einer Variablen kannst du dir durch `type(x)` anzeigen lassen"
   ]
  },
  {
   "cell_type": "code",
   "execution_count": null,
   "id": "eb68c08c",
   "metadata": {},
   "outputs": [],
   "source": [
    "type(x)"
   ]
  },
  {
   "cell_type": "markdown",
   "id": "e170d033",
   "metadata": {},
   "source": [
    "Probiere unbedingt aus welche Ergebnisse der Divisionsoperator liefert. Berechne dazu `5/7`, `5.0/7.0`, `5/7.0`, `5.0/7`, `7//2` und `7.2//2.2`:"
   ]
  },
  {
   "cell_type": "code",
   "execution_count": null,
   "id": "d936d27f",
   "metadata": {},
   "outputs": [],
   "source": [
    "print(5 / 7)\n",
    "# Und hier darfst du weitermachen"
   ]
  },
  {
   "cell_type": "markdown",
   "id": "b5c08ef5",
   "metadata": {},
   "source": [
    "## for-Schleife"
   ]
  },
  {
   "cell_type": "markdown",
   "id": "21dce13f",
   "metadata": {},
   "source": [
    "Mit Schleifen können wiederholte Vorgänge automatisiert werden"
   ]
  },
  {
   "cell_type": "code",
   "execution_count": null,
   "id": "e72f6370",
   "metadata": {},
   "outputs": [],
   "source": [
    "for i in [1, 3, 7]:\n",
    "    j = i ** 2\n",
    "    print(\"Das Quadrat von\", i, \"ist\", j)"
   ]
  },
  {
   "cell_type": "markdown",
   "id": "90f3f8eb",
   "metadata": {},
   "source": [
    "Die Zeile, die den Block einleitet, muss mit einem Doppelpunkt enden. \n",
    "Die bei jedem Durchlaufen der Schleife auszuführenden Befehle müssen in Python eingerückt werden.\n",
    "Üblich sind dazu 4 Leerzeichen.\n",
    "Über die Einrückung weiß Python, welche Befehle in die Schleife gehören und welche nicht. \n",
    "Eine weitere Kennzeichnung Erfolg nicht."
   ]
  },
  {
   "cell_type": "markdown",
   "id": "3f890bd8",
   "metadata": {},
   "source": [
    "## Relationen\n",
    "Relationen können direkt im Notebook ausprobiert werden.\n",
    "Für die Werte `x = 5` und `y = 4.2` gilt"
   ]
  },
  {
   "cell_type": "code",
   "execution_count": null,
   "id": "a8ef4e90",
   "metadata": {},
   "outputs": [],
   "source": [
    "x = 5\n",
    "y = 4.2\n",
    "print(x > y)\n",
    "print(x == y)"
   ]
  },
  {
   "cell_type": "markdown",
   "id": "2bbe40ce",
   "metadata": {},
   "source": [
    "**Achtung**: Es gibt einen Unterschied zwischen dem zuweisenden `=` und dem vergleichenden `==`. \n",
    "\n",
    "Weitere Relationen sind `<=`(kleiner gleich), `>=` (größer gleich) und `!=` (ungleich)."
   ]
  },
  {
   "cell_type": "markdown",
   "id": "86fdb226",
   "metadata": {},
   "source": [
    "## Bedingte Ausführung\n",
    "Relationen werden zum Aufstellen von Bedingungen benutzt. Eine Bedingung hat die allgemeine Form:"
   ]
  },
  {
   "cell_type": "code",
   "execution_count": null,
   "id": "b41f2c77",
   "metadata": {},
   "outputs": [],
   "source": [
    "i = 3              # Probiere aus was passiert, wenn du i hier veränderst\n",
    "if i < 5:          # Bedingung\n",
    "    print(i)       # Block von Befehlen, die ausgeführt werden sollen,\n",
    "    print(i ** i)  # falls die Bedingung erfüllt ist"
   ]
  },
  {
   "cell_type": "markdown",
   "id": "238996f9",
   "metadata": {},
   "source": [
    "Blöcke werden auch hier, analog zum Vorgehen bei den `for` Schleifen, eingerückt.\n",
    "\n",
    "Wie du wahrscheinlich schon festgestellt hast, leitet `#` einen Kommentar ein.\n",
    "Alle Kommentare werden von Python ignoriert und dienen nur zum besseren Verständnis des Codes."
   ]
  },
  {
   "cell_type": "code",
   "execution_count": null,
   "id": "f0c6f106",
   "metadata": {},
   "outputs": [],
   "source": [
    "i = 6\n",
    "if i < 5:               # Bedingung\n",
    "    print(i)            # Block von Befehlen, die ausgeführt werden sollen,\n",
    "    print(i ** i)       # falls die Bedingung erfüllt ist\n",
    "else:\n",
    "    print(\"i ist >= 5\") # ..., wenn die Bedingung nicht erfüllt ist"
   ]
  },
  {
   "cell_type": "markdown",
   "id": "e9713026",
   "metadata": {},
   "source": [
    "Die Unterscheidung mehrerer Fälle kann man mit `elif` (wie else if) erzielen:"
   ]
  },
  {
   "cell_type": "code",
   "execution_count": null,
   "id": "b22fdb22",
   "metadata": {},
   "outputs": [],
   "source": [
    "i = 100\n",
    "if i < 5:\n",
    "    print(i)\n",
    "    print(i ** i)\n",
    "elif i < 10:\n",
    "    print(\"5 <= i < 10\")\n",
    "elif i < 20:\n",
    "    print(\"10 <= i < 20\")\n",
    "else:\n",
    "    print(\"i >= 20\")"
   ]
  },
  {
   "cell_type": "markdown",
   "id": "bc5a4b11",
   "metadata": {},
   "source": [
    "## Bedingte Schleifen (while-Schleife)\n",
    "Bei einer `while`-Schleife ist die Ausführung der eingerückten Befehle an eine Bedingung geknüpft."
   ]
  },
  {
   "cell_type": "code",
   "execution_count": null,
   "id": "967f548c",
   "metadata": {},
   "outputs": [],
   "source": [
    "k, l = 1, 1               # Anfangswerte für k und l\n",
    "while k < 100:            # Beidnung für die Ausführung des Unterabschnitts\n",
    "    k, l = k + l, k       # dies ist der\n",
    "    print(k, l, k / l)    # Unterabschnitt\n",
    "\n",
    "print(\"Dies wird nicht mehr innerhalb der Schleife ausgegeben.\")"
   ]
  },
  {
   "cell_type": "markdown",
   "id": "86f47667",
   "metadata": {},
   "source": [
    "**Welche Zahlen werden hier berechnet? Welches Verhältnis ergibt sich?**"
   ]
  },
  {
   "cell_type": "markdown",
   "id": "5c6ea118",
   "metadata": {},
   "source": [
    "## Funktionen\n",
    "Um Programme (und Notebooks) besser zu gliedern oder mehrmalige Aufrufe und Brechnungen zu vemrieden, verwendet man Funktionen."
   ]
  },
  {
   "cell_type": "code",
   "execution_count": null,
   "id": "c1990e33",
   "metadata": {},
   "outputs": [],
   "source": [
    "def sum_prod(x, y):\n",
    "    \"\"\"Berechne Summe und Produkt von x, y.\"\"\"\n",
    "    return x + y, x * y"
   ]
  },
  {
   "cell_type": "markdown",
   "id": "331160ed",
   "metadata": {},
   "source": [
    "Die Befehle der Funktion müssen wie bei Schleifen oder Verzweigungen ebenfalls eingerückt werden. Funktionen können mehrere Werte zurückgeben."
   ]
  },
  {
   "cell_type": "code",
   "execution_count": null,
   "id": "918b1534",
   "metadata": {},
   "outputs": [],
   "source": [
    "print(sum_prod(4, 6))\n",
    "a, b = sum_prod(4, 6)\n",
    "print(a)\n",
    "print(b)"
   ]
  },
  {
   "cell_type": "markdown",
   "id": "d6064002",
   "metadata": {},
   "source": [
    "Mit `help(sum_prod)` erhältst Du die Dokumentation zur Routine."
   ]
  },
  {
   "cell_type": "code",
   "execution_count": null,
   "id": "6a2d2a78",
   "metadata": {},
   "outputs": [],
   "source": [
    "help(sum_prod)"
   ]
  },
  {
   "cell_type": "markdown",
   "id": "7bd7f526",
   "metadata": {},
   "source": [
    "## Dokumentation"
   ]
  },
  {
   "cell_type": "markdown",
   "id": "838c73fb",
   "metadata": {},
   "source": [
    "Ein sehr wichtiger Aspekt bei der numerischen Umsetzung von komplexen Zusammenhängen ist eine sorgfältige, aussagekräftige Dokumentation.\n",
    "Bei klassischen Skripten wird dies durch Kommentare im Code erreicht. Im Fall von Notebooks, können auch Textblöcke, Bilder und Formeln direkt eingefügt werden.\n",
    "\n",
    "Dieses Notebook zeigt wie man durch Formeln und Text dokumentieren kann.\n",
    "\n",
    "Die Dokumentation von einer Funktion könnte wie folgt aussehen:"
   ]
  },
  {
   "cell_type": "code",
   "execution_count": null,
   "id": "d5fdd1a8",
   "metadata": {},
   "outputs": [],
   "source": [
    "import numpy as np\n",
    "\n",
    "def newton_iteration(zahl, n_iter=5):\n",
    "    \"\"\" Berechne Quadratwurzel von 'zahl' mit Newton-Iteration.\n",
    "        Die Newton Iteration\n",
    "            x_k = 1/2 (x_{k-1} + zahl / x_{k-1})\n",
    "        mit (x_0=1) konvergeirt quadratisch zur gesuchten Wurzel.\n",
    "        \n",
    "        Der Parameter n_iter (mit Default-Wert 5) bestimmt die Anzahl der durchgefuehrten Iterationen\n",
    "    \"\"\"\n",
    "    x = 1.0\n",
    "    i = 0\n",
    "    while i < n_iter:\n",
    "        x = 0.5 * (x+zahl/x)\n",
    "        i = i + 1\n",
    "    return x\n",
    "\n",
    "print(\"Newton Iteration\")\n",
    "print(\"sqrt(2)         : {:.16f}\".format(np.sqrt(2)))\n",
    "print(\"2 Iterationen   : {:.16f}\".format(newton_iteration(2.0,2)))\n",
    "print(\"3 Iterationen   : {:.16f}\".format(newton_iteration(2.0,3)))\n",
    "print(\"5 Iterationen   : {:.16f}\".format(newton_iteration(2.0)))"
   ]
  },
  {
   "cell_type": "markdown",
   "id": "b14698a1",
   "metadata": {},
   "source": [
    "## NumPy Modul und Arrays"
   ]
  },
  {
   "cell_type": "markdown",
   "id": "82b90721",
   "metadata": {},
   "source": [
    "Python stellt einen Satz von Standardbefeheln zur Verfügung, der mit einer Vielzahl zusätzlicher Module erweitert werden kann.\n",
    "Durch `import numpy as np` werden alle Befehle, die im Modul `numpy` vorhanden sind, mit dem Präfix `np.` im aktuellen Skript bekannt gemacht.\n",
    "Der Wurzel Befehl `np.sqrt()` in der letzten Zelle ist ein Beispiel dafür.\n",
    "\n",
    "Das `numpy` Modul stellt u.a. mathematische Fujktionen und Arrays bereit. Wir laden das `numpy` Modul für die folgenden Erklärungen (und Aufgaben) zu eindimensionalen Arrays."
   ]
  },
  {
   "cell_type": "markdown",
   "id": "d19b9f07",
   "metadata": {},
   "source": [
    "Probiere folgende Befehle aus"
   ]
  },
  {
   "cell_type": "code",
   "execution_count": null,
   "id": "ca96f3ea",
   "metadata": {},
   "outputs": [],
   "source": [
    "x = np.arange(10)\n",
    "x"
   ]
  },
  {
   "cell_type": "code",
   "execution_count": null,
   "id": "dff1522f",
   "metadata": {},
   "outputs": [],
   "source": [
    "y = np.zeros(10)\n",
    "y"
   ]
  },
  {
   "cell_type": "code",
   "execution_count": null,
   "id": "e0c61801",
   "metadata": {},
   "outputs": [],
   "source": [
    "z = 2 * np.ones(10, dtype=int)\n",
    "z"
   ]
  },
  {
   "cell_type": "code",
   "execution_count": null,
   "id": "abb49a95",
   "metadata": {},
   "outputs": [],
   "source": [
    "z2 = 2.0 * np.ones(10, dtype=int)\n",
    "z2"
   ]
  },
  {
   "cell_type": "markdown",
   "id": "1e229b8e",
   "metadata": {},
   "source": [
    "**Was ist der Unterschied zwischen `z` und `z2`? Beachte auch was passiert, wenn Du `z[2]=1.8` setzt. Hättest du das erwartet?**"
   ]
  },
  {
   "cell_type": "code",
   "execution_count": null,
   "id": "ba528159",
   "metadata": {},
   "outputs": [],
   "source": [
    "#Nutze diese Zelle für die Aufgabe"
   ]
  },
  {
   "cell_type": "markdown",
   "id": "97c8d166",
   "metadata": {},
   "source": [
    "### Elementare Operationen\n",
    "\n",
    "Neben der Multiplikation mit Skalaren ist auch die Addition und Division möglich"
   ]
  },
  {
   "cell_type": "code",
   "execution_count": null,
   "id": "97cf8f1f",
   "metadata": {},
   "outputs": [],
   "source": [
    "print(4 * x)\n",
    "print(4.0 * x)\n",
    "print(x  +1)\n",
    "print(x / 10.0)\n",
    "print(x - np.pi)\n",
    "print(1.0 * (x < 3.5))\n",
    "print(1.0 * ((3 < x) * (x <= 7)))"
   ]
  },
  {
   "cell_type": "markdown",
   "id": "fce77f07",
   "metadata": {},
   "source": [
    "Arrays kann man auch elementweise addieren, subtrahieren, multiplizieren und auch potenzieren:"
   ]
  },
  {
   "cell_type": "code",
   "execution_count": null,
   "id": "b5fddc44",
   "metadata": {},
   "outputs": [],
   "source": [
    "w = np.arange(1, 20, 2)\n",
    "x = np.arange(10)\n",
    "print(\"w: \", w)\n",
    "print(x + w)\n",
    "print(x - w)\n",
    "print(x  *w)\n",
    "print(x / w)\n",
    "print(x ** 2)\n",
    "print(x ** w)"
   ]
  },
  {
   "cell_type": "markdown",
   "id": "6728c837",
   "metadata": {},
   "source": [
    "Während `np.zeros` und `np.ones` Fließkommazahlen zurückgeben )oder ganze Zahlen, wenn man das Schlüsselwort `dtype=int` angibt), liefert `np.arange` nur dann ganze Zahlen,w enn es ausschließlich mit ganzen Zahlen aufgerufen wird.\n",
    "\n",
    "Für die oben genannten Operationen ist es wichtig, dass `x` und `w` die gleiche Länge haben. Probiere"
   ]
  },
  {
   "cell_type": "code",
   "execution_count": null,
   "id": "56f8eb31",
   "metadata": {},
   "outputs": [],
   "source": [
    "try:\n",
    "    v1 = np.arange(10)\n",
    "    v2 = np.zeros(9)\n",
    "    print(v1 + v2)\n",
    "except Exception as e:\n",
    "    print(e)"
   ]
  },
  {
   "cell_type": "markdown",
   "id": "0f921709",
   "metadata": {},
   "source": [
    "Die Anzahl der Elemente eines Arrays (=Arraylänge) erhälst Du durch den Befehl `len` (oder das Attribut `shape`).`shape` wird bei mehrdimensionalen Arrays wichtig."
   ]
  },
  {
   "cell_type": "code",
   "execution_count": null,
   "id": "07a0a254",
   "metadata": {},
   "outputs": [],
   "source": [
    "print(len(x))\n",
    "print(x.shape)"
   ]
  },
  {
   "cell_type": "markdown",
   "id": "425823fd",
   "metadata": {},
   "source": [
    "### Zugriff auf einzelne Elemente und Slicing\n",
    "\n",
    "Auf einzelne Elemente eines Arrays kann man mittels eckiger Klammern zugreifen"
   ]
  },
  {
   "cell_type": "code",
   "execution_count": null,
   "id": "3850031c",
   "metadata": {},
   "outputs": [],
   "source": [
    "print(x[5])"
   ]
  },
  {
   "cell_type": "markdown",
   "id": "66c41317",
   "metadata": {},
   "source": [
    "Beachte, dass das erste Element durch `x[0]` und das letzte durch `x[len(x)-1]` oder `x[-1]` angesprochen wird.\n",
    "\n",
    "Teilbereiche eines Arrays können mit der `:` Notation (\"slicing\") angsprochen werden"
   ]
  },
  {
   "cell_type": "code",
   "execution_count": null,
   "id": "7b88040f",
   "metadata": {},
   "outputs": [],
   "source": [
    "x = np.arange(10)\n",
    "print(x)\n",
    "print(x[0:4])\n",
    "print(x[5:7])\n",
    "print(x[4:])\n",
    "print(x[:6])\n",
    "print(x[1:6:2])\n",
    "print(x[:6:2])\n",
    "print(x[::2])"
   ]
  },
  {
   "cell_type": "markdown",
   "id": "ee2f7399",
   "metadata": {},
   "source": [
    "Beachte, dass (analog zum `np.arange` Befehl) die obere Grenze **nicht** mit eingeschlossen ist."
   ]
  },
  {
   "cell_type": "markdown",
   "id": "c08f006d",
   "metadata": {},
   "source": [
    "### To copy or not to copy\n",
    "Wichtig ist das folgende Beispiel"
   ]
  },
  {
   "cell_type": "code",
   "execution_count": null,
   "id": "9d50f9a8",
   "metadata": {},
   "outputs": [],
   "source": [
    "k = 10\n",
    "l = k\n",
    "print(k, l)\n",
    "l = 4\n",
    "print(k, l)"
   ]
  },
  {
   "cell_type": "code",
   "execution_count": null,
   "id": "c1ce0b5b",
   "metadata": {},
   "outputs": [],
   "source": [
    "#Aber:\n",
    "q = np.arange(5)\n",
    "r = q\n",
    "print(q,r)\n",
    "r[2]=-100\n",
    "print(q,r)"
   ]
  },
  {
   "cell_type": "markdown",
   "id": "db07371f",
   "metadata": {},
   "source": [
    "Dies ist eine häufige Ursache für Fehler -- kannst Du Dir vorstellen, warum für Arrays das Verhalten anders ist? Zum Kopieren eines Arrays verwendet man daher beispielsweise"
   ]
  },
  {
   "cell_type": "code",
   "execution_count": null,
   "id": "2d7bc00c",
   "metadata": {},
   "outputs": [],
   "source": [
    "q = np.arange(5)\n",
    "r = np.copy(q)    # Dies erzeugt eine Kopie von q\n",
    "print(q, r)\n",
    "r[2] = -100\n",
    "print(q, r)"
   ]
  },
  {
   "cell_type": "markdown",
   "id": "1f90c897",
   "metadata": {},
   "source": [
    "### Erzeugung von Arrays\n",
    "Ein Array reeler Zahlen kann mittels folgender Befehle erzeugt werden:"
   ]
  },
  {
   "cell_type": "code",
   "execution_count": null,
   "id": "f4917a17",
   "metadata": {},
   "outputs": [],
   "source": [
    "a = np.zeros(10)\n",
    "print(a)\n",
    "print(\"Arraytyp\", a.dtype.name)"
   ]
  },
  {
   "cell_type": "markdown",
   "id": "d437ca0e",
   "metadata": {},
   "source": [
    "Arrays mit reellen, linear ansteigenden Einträgen kann man wie folgt erzeugen"
   ]
  },
  {
   "cell_type": "code",
   "execution_count": null,
   "id": "4b7d6d9f",
   "metadata": {},
   "outputs": [],
   "source": [
    "print(np.arange(0.0, 7.2, 0.8))    # Start, Ende, Inkrement"
   ]
  },
  {
   "cell_type": "markdown",
   "id": "f88342ad",
   "metadata": {},
   "source": [
    "**ACHTUNG: Vergleiche mit**"
   ]
  },
  {
   "cell_type": "code",
   "execution_count": null,
   "id": "e1983979",
   "metadata": {},
   "outputs": [],
   "source": [
    "print(np.arange(0.0,5.4,0.6))"
   ]
  },
  {
   "cell_type": "markdown",
   "id": "a9fefc66",
   "metadata": {},
   "source": [
    "Was ist hier unterschiedlich? Hättest Du das erwartet? Ist das ein Fehler von Python? Schau dir dazu die Ausgabe der folgenden Zeilen an:"
   ]
  },
  {
   "cell_type": "code",
   "execution_count": null,
   "id": "d5429505",
   "metadata": {},
   "outputs": [],
   "source": [
    "print(repr(9.0*0.8))\n",
    "print(repr(9.0*0.6))"
   ]
  },
  {
   "cell_type": "markdown",
   "id": "46fcf6af",
   "metadata": {},
   "source": [
    "Um bei reellen Arrays sicherzustellen, dass ein Array eine vorgegebene Anzahl von Elementen hat, sollte man **immer** den Befehl `np.linspace` verwenden"
   ]
  },
  {
   "cell_type": "code",
   "execution_count": null,
   "id": "1667ae5b",
   "metadata": {},
   "outputs": [],
   "source": [
    "print(np.linspace(0.0, 5.0, 10)) # Start, Ende, Anzahl"
   ]
  },
  {
   "cell_type": "markdown",
   "id": "8ef2da63",
   "metadata": {},
   "source": [
    "Möchte man hierbei den Endpunkt ausschließen, so ist dies mit dem optionalen Argument `endpoint` möglich"
   ]
  },
  {
   "cell_type": "code",
   "execution_count": null,
   "id": "90ed8c46",
   "metadata": {},
   "outputs": [],
   "source": [
    "print(np.linspace(0.0, 5.0, 10, endpoint=False))"
   ]
  },
  {
   "cell_type": "markdown",
   "id": "f09e4ef3",
   "metadata": {},
   "source": [
    "### Weitere Array Optionen\n",
    "Neben den oben aufgeführten Operationen kann man eine Vielzahl von Operationen auf Arrays anwenden, zum Beispiel"
   ]
  },
  {
   "cell_type": "code",
   "execution_count": null,
   "id": "9a4bf4d3",
   "metadata": {},
   "outputs": [],
   "source": [
    "N = 10000\n",
    "x=np.linspace(0.0, 1.0, N)  # Array mit Werten in [0,1]\n",
    "y=np.cos(x)"
   ]
  },
  {
   "cell_type": "markdown",
   "id": "25df6174",
   "metadata": {},
   "source": [
    "Vergleiche die Geschwindigkeit der Berechnung von"
   ]
  },
  {
   "cell_type": "code",
   "execution_count": null,
   "id": "da969d75",
   "metadata": {},
   "outputs": [],
   "source": [
    "%%time\n",
    "np.sum(np.cos(x))"
   ]
  },
  {
   "cell_type": "markdown",
   "id": "e9bd6638",
   "metadata": {},
   "source": [
    "mit"
   ]
  },
  {
   "cell_type": "code",
   "execution_count": null,
   "id": "104d0793",
   "metadata": {},
   "outputs": [],
   "source": [
    "%%time\n",
    "summe = 0.0\n",
    "for i in range(N):\n",
    "    summe = summe + np.cos(x[i])\n",
    "summe"
   ]
  },
  {
   "cell_type": "markdown",
   "id": "ea747188",
   "metadata": {},
   "source": [
    "Das Beispiel illustriert zwei wesentliche Aspekte\n",
    "- Vernwedung von Arrays fürht zu kürzeren und damit übersichtlicheren Programmen\n",
    "- `for` Schleifen sind deutlich langsamer\n",
    "\n",
    "**Aufgabe**: Berechne mittels einer `for`-Schleife\n",
    "$$\\sum_{n=1}^{100}\\frac{1}{n}\\approx 5.1873$$\n",
    "\n",
    "Vergleiche mit der unten stehenden Array Berechnung."
   ]
  },
  {
   "cell_type": "code",
   "execution_count": null,
   "id": "8b679f69",
   "metadata": {},
   "outputs": [],
   "source": [
    "%%time\n",
    "# for-Schleife"
   ]
  },
  {
   "cell_type": "code",
   "execution_count": null,
   "id": "e98e8b64",
   "metadata": {},
   "outputs": [],
   "source": [
    "%%time\n",
    "# Array Berechnung\n",
    "print(np.sum(1.0 / np.arange(1, 101)))"
   ]
  },
  {
   "cell_type": "markdown",
   "id": "a8fdfc55",
   "metadata": {},
   "source": [
    "## Graphik mit matplotlib"
   ]
  },
  {
   "cell_type": "markdown",
   "id": "af7d7966",
   "metadata": {},
   "source": [
    "Ein wesentlicher Aspekt numerischer Untersuchungen ist die graphische Darstellung von Daten.\n",
    "Wir werden im folgenden `matplotlib` verwenden und uns auf statische Plots konzentrieren.\n",
    "\n",
    "`matplotlib` erlaubt verschiedene Interfaces. Wir werden explizit das Axis-Interface verwenden. Falls du schon mit `matplotlib` gearbeitet hast, kannst du auch gerne das Interface deiner Wahl verwenden.\n",
    "\n",
    "Zuerst müssen wir das Modul importieren"
   ]
  },
  {
   "cell_type": "code",
   "execution_count": null,
   "id": "ac01c376",
   "metadata": {},
   "outputs": [],
   "source": [
    "import matplotlib.pyplot as plt"
   ]
  },
  {
   "cell_type": "code",
   "execution_count": null,
   "id": "1e6a2a79",
   "metadata": {},
   "outputs": [],
   "source": [
    "x = np.linspace(0.0, 2.0 * np.pi, 100)   # x-Werte erzeugen\n",
    "f, ax = plt.subplots()                 # Erzeuge eine Figure f und eine Achse ax\n",
    "ax.plot(x, np.sin(x))\n",
    "ax.plot(x, np.sin(2 * x))\n",
    "plt.show()"
   ]
  },
  {
   "cell_type": "markdown",
   "id": "1b2cc37b",
   "metadata": {},
   "source": [
    "Der Stil der Kurve kann direkt im `ax.plot` Befehl angepasst werden"
   ]
  },
  {
   "cell_type": "code",
   "execution_count": null,
   "id": "c8c1fde4",
   "metadata": {},
   "outputs": [],
   "source": [
    "f, ax = plt.subplots()                 # Erzeuge eine Figure f und eine Achse ax\n",
    "ax.plot(x, np.sin(x), ls = '--', color = 'C4')\n",
    "ax.plot(x, np.sin(2 * x), lw = 3, color = 'C2')\n",
    "plt.show()"
   ]
  },
  {
   "cell_type": "markdown",
   "id": "e92efa9e",
   "metadata": {},
   "source": [
    "### Achsenbeschriftung und Überschriften\n",
    "Die Befehle `set_xlabel` und `set_ylabel` können auf die Achse angewendet werden um die Beschriftung der Achsen zu setzen.\n",
    "Mit `set_title` kann der Titel des Plots gesetzt werden."
   ]
  },
  {
   "cell_type": "code",
   "execution_count": null,
   "id": "7688830d",
   "metadata": {},
   "outputs": [],
   "source": [
    "f, ax = plt.subplots()                 # Erzeuge eine Figure f und eine Achse ax\n",
    "ax.plot(x, np.sin(x))\n",
    "ax.plot(x, np.sin(2 * x))\n",
    "ax.set_xlabel(\"x\")                     # Setze Label der x-Achse\n",
    "ax.set_ylabel(\"y\")                     # Setze Label der y-Achse\n",
    "ax.set_title(\"Sinus Funktionen\")\n",
    "plt.show()"
   ]
  },
  {
   "cell_type": "markdown",
   "id": "31faf875",
   "metadata": {},
   "source": [
    "### Legende\n",
    "\n",
    "Um die einzelnen Linien identifizieren zu können, können wir den einzelnen `plot` Befehlen `label` zuweisen. Diese können mittels `ax.legend()` im Plot angezeigt werden."
   ]
  },
  {
   "cell_type": "code",
   "execution_count": null,
   "id": "db5cae9e",
   "metadata": {},
   "outputs": [],
   "source": [
    "f, ax = plt.subplots()                 # Erzeuge eine Figure f und eine Achse ax\n",
    "ax.plot(x, np.sin(x), label=\"sin(x)\")\n",
    "ax.plot(x, np.sin(2 * x), label= \"sin(2x)\")\n",
    "ax.set_xlabel(\"x\")\n",
    "ax.set_ylabel(\"y\")\n",
    "ax.legend()\n",
    "plt.show()"
   ]
  }
 ],
 "metadata": {
  "kernelspec": {
   "display_name": "Python 3 (ipykernel)",
   "language": "python",
   "name": "python3"
  },
  "language_info": {
   "codemirror_mode": {
    "name": "ipython",
    "version": 3
   },
   "file_extension": ".py",
   "mimetype": "text/x-python",
   "name": "python",
   "nbconvert_exporter": "python",
   "pygments_lexer": "ipython3",
   "version": "3.11.3"
  }
 },
 "nbformat": 4,
 "nbformat_minor": 5
}
