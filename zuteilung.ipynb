{
 "cells": [
  {
   "cell_type": "code",
   "execution_count": 2,
   "id": "a03c6165",
   "metadata": {},
   "outputs": [],
   "source": [
    "import random"
   ]
  },
  {
   "cell_type": "code",
   "execution_count": 4,
   "id": "c88fca38",
   "metadata": {},
   "outputs": [],
   "source": [
    "names = [\"Myrdin\", \"Elisabeth\", \"Josephine\", \"Ben\", \"Mika\", \"Thyra\", \"Pooja\",\\\n",
    "         \"Henri\", \"Richard\", \"Anne\", \"Siyi\", \"Filip\", \"Marco\", \"Isabell\", \"David\"]\n",
    "         \n",
    "random.shuffle(names)"
   ]
  },
  {
   "cell_type": "code",
   "execution_count": 5,
   "id": "397a5e5e",
   "metadata": {},
   "outputs": [
    {
     "name": "stdout",
     "output_type": "stream",
     "text": [
      "0 \t Myrdin\n",
      "1 \t Marco\n",
      "2 \t Isabell\n",
      "3 \t Siyi\n",
      "4 \t Richard\n",
      "5 \t Josephine\n",
      "6 \t Filip\n",
      "7 \t Henri\n",
      "8 \t Thyra\n",
      "9 \t Anne\n",
      "10 \t Pooja\n",
      "11 \t Elisabeth\n",
      "12 \t Ben\n",
      "13 \t David\n",
      "14 \t Mika\n"
     ]
    }
   ],
   "source": [
    "for i in range(len(names)):\n",
    "    print(i, \"\\t\", names[i])"
   ]
  },
  {
   "cell_type": "code",
   "execution_count": null,
   "id": "5896f060",
   "metadata": {},
   "outputs": [],
   "source": [
    "themen = [\"Keep America Beautiful\", \"Rag and Bone man\", \"Eine Alternative für Plastik - Glas und Aluminium?\"]\n",
    "\n",
    "\n",
    "result = []\n",
    "for t in themen:\n",
    "    for p in position:\n",
    "        result.append(names.pop(random.randrange(len(names))) + \", \" + t + \", \" + p)\n",
    "    "
   ]
  }
 ],
 "metadata": {
  "kernelspec": {
   "display_name": "Python 3 (ipykernel)",
   "language": "python",
   "name": "python3"
  },
  "language_info": {
   "codemirror_mode": {
    "name": "ipython",
    "version": 3
   },
   "file_extension": ".py",
   "mimetype": "text/x-python",
   "name": "python",
   "nbconvert_exporter": "python",
   "pygments_lexer": "ipython3",
   "version": "3.11.3"
  }
 },
 "nbformat": 4,
 "nbformat_minor": 5
}
